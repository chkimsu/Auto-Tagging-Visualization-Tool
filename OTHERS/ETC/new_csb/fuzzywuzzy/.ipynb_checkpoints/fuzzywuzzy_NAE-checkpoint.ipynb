{
 "cells": [
  {
   "cell_type": "code",
   "execution_count": 3,
   "metadata": {},
   "outputs": [],
   "source": [
    "import pandas as pd\n",
    "data = pd.read_csv('NAE08_result.csv')\n",
    "data = data.drop(['Unnamed: 0', 'label'], axis = 1)\n",
    "data = data[~pd.isnull(data.PROP_DESCRIPTION)]"
   ]
  },
  {
   "cell_type": "code",
   "execution_count": 4,
   "metadata": {},
   "outputs": [
    {
     "data": {
      "text/html": [
       "<div>\n",
       "<style scoped>\n",
       "    .dataframe tbody tr th:only-of-type {\n",
       "        vertical-align: middle;\n",
       "    }\n",
       "\n",
       "    .dataframe tbody tr th {\n",
       "        vertical-align: top;\n",
       "    }\n",
       "\n",
       "    .dataframe thead th {\n",
       "        text-align: right;\n",
       "    }\n",
       "</style>\n",
       "<table border=\"1\" class=\"dataframe\">\n",
       "  <thead>\n",
       "    <tr style=\"text-align: right;\">\n",
       "      <th></th>\n",
       "      <th>PROP_OBJECT_IDENTIFIER</th>\n",
       "      <th>PROP_OBJECT_NAME</th>\n",
       "      <th>PROP_DESCRIPTION</th>\n",
       "    </tr>\n",
       "  </thead>\n",
       "  <tbody>\n",
       "    <tr>\n",
       "      <th>0</th>\n",
       "      <td>OBJECT_DEVICE_509</td>\n",
       "      <td>MeSH_Boiler'NAE08\\MeSH_Notification'</td>\n",
       "      <td>8th floor mechanical room</td>\n",
       "    </tr>\n",
       "    <tr>\n",
       "      <th>1</th>\n",
       "      <td>OBJECT_ANALOG_INPUT_3000054</td>\n",
       "      <td>MeSH_Boiler'NAE08/MeSH_Flow Rate, Voumetric, C...</td>\n",
       "      <td>Zone2 Temperature</td>\n",
       "    </tr>\n",
       "    <tr>\n",
       "      <th>2</th>\n",
       "      <td>OBJECT_ANALOG_INPUT_3000056</td>\n",
       "      <td>MeSH_Boiler'NAE08/MeSH_Flow Rate, Voumetric, C...</td>\n",
       "      <td>Zone 1 Temperature</td>\n",
       "    </tr>\n",
       "    <tr>\n",
       "      <th>3</th>\n",
       "      <td>OBJECT_ANALOG_INPUT_3000071</td>\n",
       "      <td>MeSH_Boiler'NAE08/MeSH_Flow Rate, Voumetric, C...</td>\n",
       "      <td>Zone2 Temperature</td>\n",
       "    </tr>\n",
       "    <tr>\n",
       "      <th>4</th>\n",
       "      <td>OBJECT_ANALOG_INPUT_3000073</td>\n",
       "      <td>MeSH_Boiler'NAE08/MeSH_Flow Rate, Voumetric, C...</td>\n",
       "      <td>Zone 1 Temperature</td>\n",
       "    </tr>\n",
       "    <tr>\n",
       "      <th>...</th>\n",
       "      <td>...</td>\n",
       "      <td>...</td>\n",
       "      <td>...</td>\n",
       "    </tr>\n",
       "    <tr>\n",
       "      <th>1124</th>\n",
       "      <td>OBJECT_MULTI_STATE_VALUE_3004367</td>\n",
       "      <td>MeSH_Boiler'NAE08/MeSH_Flow Rate, Voumetric, C...</td>\n",
       "      <td>CS Input (Enum)</td>\n",
       "    </tr>\n",
       "    <tr>\n",
       "      <th>1125</th>\n",
       "      <td>OBJECT_MULTI_STATE_VALUE_3004370</td>\n",
       "      <td>MeSH_Boiler'NAE08/MeSH_Flow Rate, Voumetric, C...</td>\n",
       "      <td>Mode</td>\n",
       "    </tr>\n",
       "    <tr>\n",
       "      <th>1126</th>\n",
       "      <td>OBJECT_MULTI_STATE_VALUE_3004371</td>\n",
       "      <td>MeSH_Boiler'NAE08/MeSH_Flow Rate, Voumetric, C...</td>\n",
       "      <td>State</td>\n",
       "    </tr>\n",
       "    <tr>\n",
       "      <th>1185</th>\n",
       "      <td>OBJECT_TRENDLOG_3003118</td>\n",
       "      <td>MeSH_Boiler'NAE08/MeSH_Flow Rate, Voumetric, C...</td>\n",
       "      <td>9-UP-7 Damper</td>\n",
       "    </tr>\n",
       "    <tr>\n",
       "      <th>1186</th>\n",
       "      <td>OBJECT_TRENDLOG_3003119</td>\n",
       "      <td>MeSH_Boiler'NAE08/MeSH_Flow Rate, Voumetric, C...</td>\n",
       "      <td>9th- zone B corner dampr</td>\n",
       "    </tr>\n",
       "  </tbody>\n",
       "</table>\n",
       "<p>1087 rows × 3 columns</p>\n",
       "</div>"
      ],
      "text/plain": [
       "                PROP_OBJECT_IDENTIFIER  \\\n",
       "0                    OBJECT_DEVICE_509   \n",
       "1          OBJECT_ANALOG_INPUT_3000054   \n",
       "2          OBJECT_ANALOG_INPUT_3000056   \n",
       "3          OBJECT_ANALOG_INPUT_3000071   \n",
       "4          OBJECT_ANALOG_INPUT_3000073   \n",
       "...                                ...   \n",
       "1124  OBJECT_MULTI_STATE_VALUE_3004367   \n",
       "1125  OBJECT_MULTI_STATE_VALUE_3004370   \n",
       "1126  OBJECT_MULTI_STATE_VALUE_3004371   \n",
       "1185           OBJECT_TRENDLOG_3003118   \n",
       "1186           OBJECT_TRENDLOG_3003119   \n",
       "\n",
       "                                       PROP_OBJECT_NAME  \\\n",
       "0                  MeSH_Boiler'NAE08\\MeSH_Notification'   \n",
       "1     MeSH_Boiler'NAE08/MeSH_Flow Rate, Voumetric, C...   \n",
       "2     MeSH_Boiler'NAE08/MeSH_Flow Rate, Voumetric, C...   \n",
       "3     MeSH_Boiler'NAE08/MeSH_Flow Rate, Voumetric, C...   \n",
       "4     MeSH_Boiler'NAE08/MeSH_Flow Rate, Voumetric, C...   \n",
       "...                                                 ...   \n",
       "1124  MeSH_Boiler'NAE08/MeSH_Flow Rate, Voumetric, C...   \n",
       "1125  MeSH_Boiler'NAE08/MeSH_Flow Rate, Voumetric, C...   \n",
       "1126  MeSH_Boiler'NAE08/MeSH_Flow Rate, Voumetric, C...   \n",
       "1185  MeSH_Boiler'NAE08/MeSH_Flow Rate, Voumetric, C...   \n",
       "1186  MeSH_Boiler'NAE08/MeSH_Flow Rate, Voumetric, C...   \n",
       "\n",
       "               PROP_DESCRIPTION  \n",
       "0     8th floor mechanical room  \n",
       "1             Zone2 Temperature  \n",
       "2            Zone 1 Temperature  \n",
       "3             Zone2 Temperature  \n",
       "4            Zone 1 Temperature  \n",
       "...                         ...  \n",
       "1124            CS Input (Enum)  \n",
       "1125                       Mode  \n",
       "1126                      State  \n",
       "1185              9-UP-7 Damper  \n",
       "1186   9th- zone B corner dampr  \n",
       "\n",
       "[1087 rows x 3 columns]"
      ]
     },
     "execution_count": 4,
     "metadata": {},
     "output_type": "execute_result"
    }
   ],
   "source": [
    "data"
   ]
  },
  {
   "cell_type": "code",
   "execution_count": 6,
   "metadata": {},
   "outputs": [],
   "source": [
    "import numpy as np\n",
    "c = list(data['PROP_DESCRIPTION'])"
   ]
  },
  {
   "cell_type": "code",
   "execution_count": 7,
   "metadata": {},
   "outputs": [],
   "source": [
    "a = pd.read_csv('AHUs.txt', header=None)\n",
    "a.columns = ['a']\n",
    "a = list(a.a)"
   ]
  },
  {
   "cell_type": "code",
   "execution_count": 8,
   "metadata": {},
   "outputs": [
    {
     "data": {
      "text/plain": [
       "(39, 1087)"
      ]
     },
     "execution_count": 8,
     "metadata": {},
     "output_type": "execute_result"
    }
   ],
   "source": [
    "len(a), len(c)"
   ]
  },
  {
   "cell_type": "code",
   "execution_count": 9,
   "metadata": {},
   "outputs": [],
   "source": [
    "b = []"
   ]
  },
  {
   "cell_type": "code",
   "execution_count": 10,
   "metadata": {},
   "outputs": [
    {
     "name": "stderr",
     "output_type": "stream",
     "text": [
      "/home/chkimsu/anaconda3/envs/csb2/lib/python3.6/site-packages/fuzzywuzzy/fuzz.py:11: UserWarning: Using slow pure-python SequenceMatcher. Install python-Levenshtein to remove this warning\n",
      "  warnings.warn('Using slow pure-python SequenceMatcher. Install python-Levenshtein to remove this warning')\n"
     ]
    }
   ],
   "source": [
    "from fuzzywuzzy import fuzz\n",
    "from fuzzywuzzy import process\n",
    "import pandas as pd\n",
    "\n",
    "\n",
    "finaldata = pd.DataFrame(columns=('rawdata', 'label'), index = range(len(c)))\n",
    "\n",
    "\n",
    "for i in range(len(c)):\n",
    "    for j in range(len(a)):\n",
    "        \n",
    "        b.append(fuzz.ratio(c[i], a[j]))\n",
    "    finaldata.loc[i, 'rawdata'] = c[i]\n",
    "    finaldata.loc[i, 'label'] = a[b.index(max(b))]\n",
    "    b.clear()\n",
    "\n",
    "# print(\"after_finaldata:\", finaldata)\n"
   ]
  },
  {
   "cell_type": "markdown",
   "metadata": {},
   "source": [
    "## fuzzy의 경우 하나씩 순서대로 하다가 null이 나오면 그 이후부터는 아예 안해버리낟. "
   ]
  },
  {
   "cell_type": "code",
   "execution_count": 11,
   "metadata": {},
   "outputs": [
    {
     "data": {
      "text/html": [
       "<div>\n",
       "<style scoped>\n",
       "    .dataframe tbody tr th:only-of-type {\n",
       "        vertical-align: middle;\n",
       "    }\n",
       "\n",
       "    .dataframe tbody tr th {\n",
       "        vertical-align: top;\n",
       "    }\n",
       "\n",
       "    .dataframe thead th {\n",
       "        text-align: right;\n",
       "    }\n",
       "</style>\n",
       "<table border=\"1\" class=\"dataframe\">\n",
       "  <thead>\n",
       "    <tr style=\"text-align: right;\">\n",
       "      <th></th>\n",
       "      <th>rawdata</th>\n",
       "      <th>label</th>\n",
       "    </tr>\n",
       "  </thead>\n",
       "  <tbody>\n",
       "    <tr>\n",
       "      <th>0</th>\n",
       "      <td>8th floor mechanical room</td>\n",
       "      <td>ahus zone air temp effective sp</td>\n",
       "    </tr>\n",
       "    <tr>\n",
       "      <th>1</th>\n",
       "      <td>Zone2 Temperature</td>\n",
       "      <td>ahus zone air temp sensor</td>\n",
       "    </tr>\n",
       "    <tr>\n",
       "      <th>2</th>\n",
       "      <td>Zone 1 Temperature</td>\n",
       "      <td>ahus zone air temp sensor</td>\n",
       "    </tr>\n",
       "    <tr>\n",
       "      <th>3</th>\n",
       "      <td>Zone2 Temperature</td>\n",
       "      <td>ahus zone air temp sensor</td>\n",
       "    </tr>\n",
       "    <tr>\n",
       "      <th>4</th>\n",
       "      <td>Zone 1 Temperature</td>\n",
       "      <td>ahus zone air temp sensor</td>\n",
       "    </tr>\n",
       "    <tr>\n",
       "      <th>...</th>\n",
       "      <td>...</td>\n",
       "      <td>...</td>\n",
       "    </tr>\n",
       "    <tr>\n",
       "      <th>1082</th>\n",
       "      <td>CS Input (Enum)</td>\n",
       "      <td>ahus exhaust air fan cmd</td>\n",
       "    </tr>\n",
       "    <tr>\n",
       "      <th>1083</th>\n",
       "      <td>Mode</td>\n",
       "      <td>ahus outside air flow sp</td>\n",
       "    </tr>\n",
       "    <tr>\n",
       "      <th>1084</th>\n",
       "      <td>State</td>\n",
       "      <td>ahus freezStat sensor</td>\n",
       "    </tr>\n",
       "    <tr>\n",
       "      <th>1085</th>\n",
       "      <td>9-UP-7 Damper</td>\n",
       "      <td>ahus bypass damper cmd</td>\n",
       "    </tr>\n",
       "    <tr>\n",
       "      <th>1086</th>\n",
       "      <td>9th- zone B corner dampr</td>\n",
       "      <td>ahus zone air co2 sp</td>\n",
       "    </tr>\n",
       "  </tbody>\n",
       "</table>\n",
       "<p>1087 rows × 2 columns</p>\n",
       "</div>"
      ],
      "text/plain": [
       "                        rawdata                            label\n",
       "0     8th floor mechanical room  ahus zone air temp effective sp\n",
       "1             Zone2 Temperature        ahus zone air temp sensor\n",
       "2            Zone 1 Temperature        ahus zone air temp sensor\n",
       "3             Zone2 Temperature        ahus zone air temp sensor\n",
       "4            Zone 1 Temperature        ahus zone air temp sensor\n",
       "...                         ...                              ...\n",
       "1082            CS Input (Enum)         ahus exhaust air fan cmd\n",
       "1083                       Mode         ahus outside air flow sp\n",
       "1084                      State            ahus freezStat sensor\n",
       "1085              9-UP-7 Damper           ahus bypass damper cmd\n",
       "1086   9th- zone B corner dampr             ahus zone air co2 sp\n",
       "\n",
       "[1087 rows x 2 columns]"
      ]
     },
     "execution_count": 11,
     "metadata": {},
     "output_type": "execute_result"
    }
   ],
   "source": [
    "finaldata"
   ]
  },
  {
   "cell_type": "code",
   "execution_count": 20,
   "metadata": {},
   "outputs": [],
   "source": [
    "data['label'] = None"
   ]
  },
  {
   "cell_type": "code",
   "execution_count": 30,
   "metadata": {},
   "outputs": [
    {
     "data": {
      "text/html": [
       "<div>\n",
       "<style scoped>\n",
       "    .dataframe tbody tr th:only-of-type {\n",
       "        vertical-align: middle;\n",
       "    }\n",
       "\n",
       "    .dataframe tbody tr th {\n",
       "        vertical-align: top;\n",
       "    }\n",
       "\n",
       "    .dataframe thead th {\n",
       "        text-align: right;\n",
       "    }\n",
       "</style>\n",
       "<table border=\"1\" class=\"dataframe\">\n",
       "  <thead>\n",
       "    <tr style=\"text-align: right;\">\n",
       "      <th></th>\n",
       "      <th>Unnamed: 0</th>\n",
       "      <th>PROP_OBJECT_IDENTIFIER</th>\n",
       "      <th>PROP_OBJECT_NAME</th>\n",
       "      <th>PROP_DESCRIPTION</th>\n",
       "      <th>label</th>\n",
       "    </tr>\n",
       "  </thead>\n",
       "  <tbody>\n",
       "    <tr>\n",
       "      <th>0</th>\n",
       "      <td>0</td>\n",
       "      <td>OBJECT_DEVICE_509</td>\n",
       "      <td>MeSH_Boiler'NAE08\\MeSH_Notification'</td>\n",
       "      <td>8th floor mechanical room</td>\n",
       "      <td>None</td>\n",
       "    </tr>\n",
       "    <tr>\n",
       "      <th>1</th>\n",
       "      <td>1</td>\n",
       "      <td>OBJECT_ANALOG_INPUT_3000054</td>\n",
       "      <td>MeSH_Boiler'NAE08/MeSH_Flow Rate, Voumetric, C...</td>\n",
       "      <td>Zone2 Temperature</td>\n",
       "      <td>None</td>\n",
       "    </tr>\n",
       "    <tr>\n",
       "      <th>2</th>\n",
       "      <td>2</td>\n",
       "      <td>OBJECT_ANALOG_INPUT_3000056</td>\n",
       "      <td>MeSH_Boiler'NAE08/MeSH_Flow Rate, Voumetric, C...</td>\n",
       "      <td>Zone 1 Temperature</td>\n",
       "      <td>None</td>\n",
       "    </tr>\n",
       "    <tr>\n",
       "      <th>3</th>\n",
       "      <td>3</td>\n",
       "      <td>OBJECT_ANALOG_INPUT_3000071</td>\n",
       "      <td>MeSH_Boiler'NAE08/MeSH_Flow Rate, Voumetric, C...</td>\n",
       "      <td>Zone2 Temperature</td>\n",
       "      <td>None</td>\n",
       "    </tr>\n",
       "    <tr>\n",
       "      <th>4</th>\n",
       "      <td>4</td>\n",
       "      <td>OBJECT_ANALOG_INPUT_3000073</td>\n",
       "      <td>MeSH_Boiler'NAE08/MeSH_Flow Rate, Voumetric, C...</td>\n",
       "      <td>Zone 1 Temperature</td>\n",
       "      <td>None</td>\n",
       "    </tr>\n",
       "    <tr>\n",
       "      <th>...</th>\n",
       "      <td>...</td>\n",
       "      <td>...</td>\n",
       "      <td>...</td>\n",
       "      <td>...</td>\n",
       "      <td>...</td>\n",
       "    </tr>\n",
       "    <tr>\n",
       "      <th>1200</th>\n",
       "      <td>1200</td>\n",
       "      <td>OBJECT_TRENDLOG_3004388</td>\n",
       "      <td>MeSH_Boiler'NAE08/MeSH_Flow Rate, Voumetric, C...</td>\n",
       "      <td>NaN</td>\n",
       "      <td>None</td>\n",
       "    </tr>\n",
       "    <tr>\n",
       "      <th>1201</th>\n",
       "      <td>1201</td>\n",
       "      <td>OBJECT_TRENDLOG_3004405</td>\n",
       "      <td>MeSH_Boiler'NAE08/MeSH_Flow Rate, Voumetric, C...</td>\n",
       "      <td>NaN</td>\n",
       "      <td>None</td>\n",
       "    </tr>\n",
       "    <tr>\n",
       "      <th>1202</th>\n",
       "      <td>1202</td>\n",
       "      <td>OBJECT_TRENDLOG_3004406</td>\n",
       "      <td>MeSH_Boiler'NAE08/MeSH_Flow Rate, Voumetric, C...</td>\n",
       "      <td>NaN</td>\n",
       "      <td>None</td>\n",
       "    </tr>\n",
       "    <tr>\n",
       "      <th>1203</th>\n",
       "      <td>1203</td>\n",
       "      <td>OBJECT_TRENDLOG_3004407</td>\n",
       "      <td>MeSH_Boiler'NAE08/MeSH_Flow Rate, Voumetric, C...</td>\n",
       "      <td>NaN</td>\n",
       "      <td>None</td>\n",
       "    </tr>\n",
       "    <tr>\n",
       "      <th>1204</th>\n",
       "      <td>1204</td>\n",
       "      <td>OBJECT_TRENDLOG_3004408</td>\n",
       "      <td>MeSH_Boiler'NAE08/MeSH_Flow Rate, Voumetric, C...</td>\n",
       "      <td>NaN</td>\n",
       "      <td>None</td>\n",
       "    </tr>\n",
       "  </tbody>\n",
       "</table>\n",
       "<p>1205 rows × 5 columns</p>\n",
       "</div>"
      ],
      "text/plain": [
       "      Unnamed: 0       PROP_OBJECT_IDENTIFIER  \\\n",
       "0              0            OBJECT_DEVICE_509   \n",
       "1              1  OBJECT_ANALOG_INPUT_3000054   \n",
       "2              2  OBJECT_ANALOG_INPUT_3000056   \n",
       "3              3  OBJECT_ANALOG_INPUT_3000071   \n",
       "4              4  OBJECT_ANALOG_INPUT_3000073   \n",
       "...          ...                          ...   \n",
       "1200        1200      OBJECT_TRENDLOG_3004388   \n",
       "1201        1201      OBJECT_TRENDLOG_3004405   \n",
       "1202        1202      OBJECT_TRENDLOG_3004406   \n",
       "1203        1203      OBJECT_TRENDLOG_3004407   \n",
       "1204        1204      OBJECT_TRENDLOG_3004408   \n",
       "\n",
       "                                       PROP_OBJECT_NAME  \\\n",
       "0                  MeSH_Boiler'NAE08\\MeSH_Notification'   \n",
       "1     MeSH_Boiler'NAE08/MeSH_Flow Rate, Voumetric, C...   \n",
       "2     MeSH_Boiler'NAE08/MeSH_Flow Rate, Voumetric, C...   \n",
       "3     MeSH_Boiler'NAE08/MeSH_Flow Rate, Voumetric, C...   \n",
       "4     MeSH_Boiler'NAE08/MeSH_Flow Rate, Voumetric, C...   \n",
       "...                                                 ...   \n",
       "1200  MeSH_Boiler'NAE08/MeSH_Flow Rate, Voumetric, C...   \n",
       "1201  MeSH_Boiler'NAE08/MeSH_Flow Rate, Voumetric, C...   \n",
       "1202  MeSH_Boiler'NAE08/MeSH_Flow Rate, Voumetric, C...   \n",
       "1203  MeSH_Boiler'NAE08/MeSH_Flow Rate, Voumetric, C...   \n",
       "1204  MeSH_Boiler'NAE08/MeSH_Flow Rate, Voumetric, C...   \n",
       "\n",
       "               PROP_DESCRIPTION label  \n",
       "0     8th floor mechanical room  None  \n",
       "1             Zone2 Temperature  None  \n",
       "2            Zone 1 Temperature  None  \n",
       "3             Zone2 Temperature  None  \n",
       "4            Zone 1 Temperature  None  \n",
       "...                         ...   ...  \n",
       "1200                        NaN  None  \n",
       "1201                        NaN  None  \n",
       "1202                        NaN  None  \n",
       "1203                        NaN  None  \n",
       "1204                        NaN  None  \n",
       "\n",
       "[1205 rows x 5 columns]"
      ]
     },
     "execution_count": 30,
     "metadata": {},
     "output_type": "execute_result"
    }
   ],
   "source": [
    "rawdata"
   ]
  },
  {
   "cell_type": "code",
   "execution_count": 22,
   "metadata": {},
   "outputs": [],
   "source": [
    "rawdata = pd.read_csv('NAE08_result.csv')"
   ]
  },
  {
   "cell_type": "code",
   "execution_count": 24,
   "metadata": {},
   "outputs": [],
   "source": [
    "rawdata['label'] = None"
   ]
  },
  {
   "cell_type": "code",
   "execution_count": 33,
   "metadata": {},
   "outputs": [
    {
     "data": {
      "text/plain": [
       "'ahus zone air temp sensor'"
      ]
     },
     "execution_count": 33,
     "metadata": {},
     "output_type": "execute_result"
    }
   ],
   "source": [
    "finaldata.iloc[3, 1]"
   ]
  },
  {
   "cell_type": "code",
   "execution_count": 34,
   "metadata": {},
   "outputs": [],
   "source": [
    "j = 0\n",
    "for i in list(data.index):\n",
    "    rawdata.loc[i, 'label'] = finaldata.iloc[j,1]\n",
    "    j +=1"
   ]
  },
  {
   "cell_type": "code",
   "execution_count": 36,
   "metadata": {},
   "outputs": [],
   "source": [
    "rawdata.drop(['Unnamed: 0'], axis = 1).to_csv('NAE08_fuzzy.csv')"
   ]
  }
 ],
 "metadata": {
  "kernelspec": {
   "display_name": "csb2",
   "language": "python",
   "name": "csb2"
  },
  "language_info": {
   "codemirror_mode": {
    "name": "ipython",
    "version": 3
   },
   "file_extension": ".py",
   "mimetype": "text/x-python",
   "name": "python",
   "nbconvert_exporter": "python",
   "pygments_lexer": "ipython3",
   "version": "3.6.7"
  }
 },
 "nbformat": 4,
 "nbformat_minor": 2
}
