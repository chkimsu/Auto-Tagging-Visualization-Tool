{
 "cells": [
  {
   "cell_type": "markdown",
   "metadata": {},
   "source": [
    "---\n",
    "## label별 폴더 만들기\n",
    "---"
   ]
  },
  {
   "cell_type": "code",
   "execution_count": 25,
   "metadata": {},
   "outputs": [],
   "source": [
    "import os\n",
    "os.chdir('/data01/CSB/CSB_Jupyter/ATVT/BERT/CSB_Modelling/label/temp/')"
   ]
  },
  {
   "cell_type": "markdown",
   "metadata": {},
   "source": [
    "#### train label 폴더 만들기"
   ]
  },
  {
   "cell_type": "code",
   "execution_count": 26,
   "metadata": {},
   "outputs": [],
   "source": [
    "import pandas as pd\n",
    "import os\n",
    "\n",
    "for i in range(len(os.listdir())):\n",
    "    data = pd.read_csv(os.listdir()[i]+'/'+os.listdir()[i]+'.txt', header = None)\n",
    "    for j in range(len(data)):\n",
    "        if data.iloc[j,0] in os.listdir('/data01/CSB/CSB_Jupyter/ATVT/BERT/CSB_Modelling/label/train'):\n",
    "            continue\n",
    "        else : \n",
    "            os.mkdir('/data01/CSB/CSB_Jupyter/ATVT/BERT/CSB_Modelling/label/train/'+data.iloc[j,0])\n"
   ]
  },
  {
   "cell_type": "markdown",
   "metadata": {},
   "source": [
    "#### test label 폴더 만들기\n"
   ]
  },
  {
   "cell_type": "code",
   "execution_count": 27,
   "metadata": {},
   "outputs": [],
   "source": [
    "import pandas as pd\n",
    "import os\n",
    "\n",
    "for i in range(len(os.listdir())):\n",
    "    data = pd.read_csv(os.listdir()[i]+'/'+os.listdir()[i]+'.txt', header = None)\n",
    "    for j in range(len(data)):\n",
    "        if data.iloc[j,0] in os.listdir('/data01/CSB/CSB_Jupyter/ATVT/BERT/CSB_Modelling/label/test'):\n",
    "            continue\n",
    "        else : \n",
    "   \n",
    "            os.mkdir('/data01/CSB/CSB_Jupyter/ATVT/BERT/CSB_Modelling/label/test/'+data.iloc[j,0])\n"
   ]
  },
  {
   "cell_type": "markdown",
   "metadata": {},
   "source": [
    "---\n",
    "## label별 txt파일만들기\n",
    "---"
   ]
  },
  {
   "cell_type": "code",
   "execution_count": 7,
   "metadata": {},
   "outputs": [
    {
     "name": "stdout",
     "output_type": "stream",
     "text": [
      "using Keras version: 2.2.4-tf\n"
     ]
    }
   ],
   "source": [
    "import os\n",
    "# import ktrain and the ktrain.text modules\n",
    "from ktrain import text\n",
    "import ktrain\n",
    "import numpy as np \n",
    "import pandas as pd\n",
    "import math \n",
    "import numpy as np\n",
    "from sklearn import preprocessing\n",
    "\n"
   ]
  },
  {
   "cell_type": "code",
   "execution_count": 9,
   "metadata": {},
   "outputs": [],
   "source": [
    "os.chdir('/data01/CSB/CSB_Jupyter/ATVT/BERT/CSB_Modelling')\n",
    "data = pd.read_csv('NAE08_result.csv')\n",
    "os.chdir('/data01/CSB/CSB_Jupyter/ATVT/BERT/CSB_Modelling/data')\n",
    "data = data[~pd.isnull(data.label)]\n",
    "data = data.drop(['Unnamed: 0'], axis=1)\n",
    "data = data.fillna('0')\n",
    "data['data'] = data['PROP_OBJECT_IDENTIFIER']+'_'+data['PROP_OBJECT_NAME']+'_'+data['PROP_DESCRIPTION']\n",
    "data = data[['data', 'label']]\n",
    "\n",
    "for i in range(len(data.label.unique())):\n",
    "    np.savetxt(data.label.unique()[i]+'.txt', data[data.label == data.label.unique()[i]].data.values, delimiter=\"      \", fmt=\"%s\")"
   ]
  },
  {
   "cell_type": "markdown",
   "metadata": {},
   "source": [
    "---\n",
    "## 각각의 텍스트 데이터를 한줄한줄 분리하여, 파일명 지정후 각각의 train/test label 폴더에 넣기\n",
    "---"
   ]
  },
  {
   "cell_type": "code",
   "execution_count": 14,
   "metadata": {},
   "outputs": [],
   "source": [
    "txt = []\n",
    "for i in range(len(os.listdir())):\n",
    "    if '.txt' in os.listdir()[i]:\n",
    "        txt.append(os.listdir()[i])"
   ]
  },
  {
   "cell_type": "code",
   "execution_count": 18,
   "metadata": {},
   "outputs": [
    {
     "data": {
      "text/plain": [
       "'discharge air pressure sensor'"
      ]
     },
     "execution_count": 18,
     "metadata": {},
     "output_type": "execute_result"
    }
   ],
   "source": [
    "txt[1][:-4]"
   ]
  },
  {
   "cell_type": "code",
   "execution_count": 21,
   "metadata": {},
   "outputs": [],
   "source": [
    "for i in range(len(txt)):\n",
    "    a = []\n",
    "    f = open(txt[i], 'r')\n",
    "    while True:\n",
    "        line = f.readline()\n",
    "        a.append(line)\n",
    "        if not line: break\n",
    "    f.close()"
   ]
  },
  {
   "cell_type": "code",
   "execution_count": 30,
   "metadata": {},
   "outputs": [],
   "source": [
    "os.chdir('/data01/CSB/CSB_Jupyter/ATVT/BERT/CSB_Modelling/data')"
   ]
  },
  {
   "cell_type": "code",
   "execution_count": 31,
   "metadata": {},
   "outputs": [],
   "source": [
    "for i in range(len(txt)):\n",
    "    a = []\n",
    "    f = open(txt[i], 'r')\n",
    "    while True:\n",
    "        line = f.readline()\n",
    "        a.append(line)\n",
    "        if not line: break\n",
    "    f.close()\n",
    "    \n",
    "    \n",
    "    for j in range(len(a)):\n",
    "        with open('/data01/CSB/CSB_Jupyter/ATVT/BERT/CSB_Modelling/label/train/'+txt[i][:-4]+'/'+txt[i][:-4]+str(j+1)+'.'+'txt', 'w') as file:\n",
    "            file.write(a[j])\n",
    "       "
   ]
  },
  {
   "cell_type": "code",
   "execution_count": 32,
   "metadata": {},
   "outputs": [],
   "source": [
    "for i in range(len(txt)):\n",
    "    a = []\n",
    "    f = open(txt[i], 'r')\n",
    "    while True:\n",
    "        line = f.readline()\n",
    "        a.append(line)\n",
    "        if not line: break\n",
    "    f.close()\n",
    "    \n",
    "    \n",
    "    for j in range(len(a)):\n",
    "        with open('/data01/CSB/CSB_Jupyter/ATVT/BERT/CSB_Modelling/label/test/'+txt[i][:-4]+'/'+txt[i][:-4]+str(j+1)+'.'+'txt', 'w') as file:\n",
    "            file.write(a[j])\n",
    "       "
   ]
  }
 ],
 "metadata": {
  "kernelspec": {
   "display_name": "csb2",
   "language": "python",
   "name": "csb2"
  },
  "language_info": {
   "codemirror_mode": {
    "name": "ipython",
    "version": 3
   },
   "file_extension": ".py",
   "mimetype": "text/x-python",
   "name": "python",
   "nbconvert_exporter": "python",
   "pygments_lexer": "ipython3",
   "version": "3.6.7"
  }
 },
 "nbformat": 4,
 "nbformat_minor": 2
}
