{
 "cells": [
  {
   "cell_type": "markdown",
   "metadata": {},
   "source": [
    "## BERT 모델 태우기"
   ]
  },
  {
   "cell_type": "code",
   "execution_count": 136,
   "metadata": {},
   "outputs": [],
   "source": [
    "from ktrain import text"
   ]
  },
  {
   "cell_type": "code",
   "execution_count": 140,
   "metadata": {},
   "outputs": [
    {
     "name": "stdout",
     "output_type": "stream",
     "text": [
      "detected encoding: utf-8\n",
      "preprocessing train...\n",
      "language: en\n"
     ]
    },
    {
     "data": {
      "text/html": [
       "done."
      ],
      "text/plain": [
       "<IPython.core.display.HTML object>"
      ]
     },
     "metadata": {},
     "output_type": "display_data"
    },
    {
     "name": "stdout",
     "output_type": "stream",
     "text": [
      "preprocessing test...\n",
      "language: en\n"
     ]
    },
    {
     "data": {
      "text/html": [
       "done."
      ],
      "text/plain": [
       "<IPython.core.display.HTML object>"
      ]
     },
     "metadata": {},
     "output_type": "display_data"
    }
   ],
   "source": [
    "(x_train, y_train), (x_test, y_test), preproc = text.texts_from_folder('label', maxlen=500, \n",
    "                                                                     preprocess_mode='bert',\n",
    "                                                                     train_test_names=['train', 'test'],\n",
    "                                                                     )"
   ]
  },
  {
   "cell_type": "code",
   "execution_count": 141,
   "metadata": {},
   "outputs": [
    {
     "data": {
      "text/plain": [
       "([array([[ 101, 4874, 1035, ...,    0,    0,    0],\n",
       "         [ 101, 4874, 1035, ...,    0,    0,    0],\n",
       "         [ 101, 4874, 1035, ...,    0,    0,    0],\n",
       "         ...,\n",
       "         [ 101, 4874, 1035, ...,    0,    0,    0],\n",
       "         [ 101, 4874, 1035, ...,    0,    0,    0],\n",
       "         [ 101, 4874, 1035, ...,    0,    0,    0]]),\n",
       "  array([[0, 0, 0, ..., 0, 0, 0],\n",
       "         [0, 0, 0, ..., 0, 0, 0],\n",
       "         [0, 0, 0, ..., 0, 0, 0],\n",
       "         ...,\n",
       "         [0, 0, 0, ..., 0, 0, 0],\n",
       "         [0, 0, 0, ..., 0, 0, 0],\n",
       "         [0, 0, 0, ..., 0, 0, 0]])],\n",
       " array([[0., 0., 0., ..., 0., 0., 0.],\n",
       "        [0., 0., 0., ..., 0., 0., 0.],\n",
       "        [0., 0., 0., ..., 0., 0., 0.],\n",
       "        ...,\n",
       "        [0., 0., 0., ..., 0., 0., 0.],\n",
       "        [0., 0., 0., ..., 0., 0., 0.],\n",
       "        [0., 0., 0., ..., 0., 0., 0.]], dtype=float32))"
      ]
     },
     "execution_count": 141,
     "metadata": {},
     "output_type": "execute_result"
    }
   ],
   "source": [
    "x_train, y_train"
   ]
  },
  {
   "cell_type": "code",
   "execution_count": 142,
   "metadata": {},
   "outputs": [
    {
     "name": "stdout",
     "output_type": "stream",
     "text": [
      "Is Multi-Label? False\n",
      "maxlen is 500\n",
      "done.\n"
     ]
    }
   ],
   "source": [
    "model = text.text_classifier('bert', train_data=(x_train, y_train), preproc=preproc)\n",
    "learner = ktrain.get_learner(model, train_data=(x_train, y_train),val_data=(x_test, y_test), batch_size= 5)"
   ]
  },
  {
   "cell_type": "code",
   "execution_count": 143,
   "metadata": {},
   "outputs": [
    {
     "name": "stdout",
     "output_type": "stream",
     "text": [
      "\n",
      "\n",
      "begin training using onecycle policy with max lr of 2e-05...\n",
      "Train on 558 samples, validate on 558 samples\n",
      "Epoch 1/8\n",
      "558/558 [==============================] - 1672s 3s/sample - loss: 4.2376 - accuracy: 0.1631 - val_loss: 2.9717 - val_accuracy: 0.3781\n",
      "Epoch 2/8\n",
      "558/558 [==============================] - 1650s 3s/sample - loss: 2.5762 - accuracy: 0.4301 - val_loss: 1.8066 - val_accuracy: 0.6595\n",
      "Epoch 3/8\n",
      "558/558 [==============================] - 1679s 3s/sample - loss: 1.5987 - accuracy: 0.6828 - val_loss: 1.1561 - val_accuracy: 0.7509\n",
      "Epoch 4/8\n",
      "558/558 [==============================] - 1650s 3s/sample - loss: 1.0934 - accuracy: 0.7599 - val_loss: 0.8236 - val_accuracy: 0.7599\n",
      "Epoch 5/8\n",
      "558/558 [==============================] - 1656s 3s/sample - loss: 0.7669 - accuracy: 0.8172 - val_loss: 0.5745 - val_accuracy: 0.8584\n",
      "Epoch 6/8\n",
      "558/558 [==============================] - 1654s 3s/sample - loss: 0.5950 - accuracy: 0.8620 - val_loss: 0.4874 - val_accuracy: 0.8799\n",
      "Epoch 7/8\n",
      "558/558 [==============================] - 1671s 3s/sample - loss: 0.5248 - accuracy: 0.8674 - val_loss: 0.4121 - val_accuracy: 0.8996\n",
      "Epoch 8/8\n",
      "558/558 [==============================] - 1664s 3s/sample - loss: 0.4546 - accuracy: 0.8943 - val_loss: 0.3962 - val_accuracy: 0.9068\n"
     ]
    },
    {
     "data": {
      "text/plain": [
       "<tensorflow.python.keras.callbacks.History at 0x7fbe74bc3278>"
      ]
     },
     "execution_count": 143,
     "metadata": {},
     "output_type": "execute_result"
    }
   ],
   "source": [
    "learner.fit_onecycle(2e-5, 8)"
   ]
  },
  {
   "cell_type": "code",
   "execution_count": 145,
   "metadata": {},
   "outputs": [],
   "source": [
    "predictor = ktrain.get_predictor(learner.model, preproc)"
   ]
  },
  {
   "cell_type": "code",
   "execution_count": 148,
   "metadata": {},
   "outputs": [
    {
     "data": {
      "text/plain": [
       "['Lights',\n",
       " 'active power phase sensor',\n",
       " 'active power total sensor',\n",
       " 'air damper cmd',\n",
       " 'air fan cmd',\n",
       " 'air fan sensor',\n",
       " 'air flow effective sp',\n",
       " 'air flow max sp',\n",
       " 'air flow min sp',\n",
       " 'air flow reheating max sp',\n",
       " 'air flow sensor',\n",
       " 'air flow standby sp',\n",
       " 'air pressure sensor',\n",
       " 'apparent power phase sensor',\n",
       " 'apparent power total sensor',\n",
       " 'bypass damper cmd',\n",
       " 'chilled water bypass valve cmd',\n",
       " 'chilled water delta flow sensor',\n",
       " 'chilled water delta pressure sensor',\n",
       " 'chilled water delta pressure sp',\n",
       " 'chilled water delta temp sensor',\n",
       " 'chilled water entering flow sensor',\n",
       " 'chilled water entering pressure sensor',\n",
       " 'chilled water entering temp sensor',\n",
       " 'chilled water leaving flow sensor',\n",
       " 'chilled water leaving pressure sensor',\n",
       " 'chilled water leaving temp sensor',\n",
       " 'chilled water leaving temp sp',\n",
       " 'chilled water valve isolation cmd',\n",
       " 'circ pump cmd',\n",
       " 'circ pump sensor',\n",
       " 'condensate entering temp sensor',\n",
       " 'condensate pump cmd',\n",
       " 'condensate pump sensor',\n",
       " 'condenser cmd',\n",
       " 'condenser refrig pressure sensor',\n",
       " 'condenser refrig temp sensor',\n",
       " 'condenser water bypass valve cmd',\n",
       " 'condenser water delta pressure sensor',\n",
       " 'condenser water entering flow sensor',\n",
       " 'condenser water entering pressure sensor',\n",
       " 'condenser water entering temp sensor',\n",
       " 'condenser water leaving flow sensor',\n",
       " 'condenser water leaving pressure sensor',\n",
       " 'condenser water leaving temp sensor',\n",
       " 'condenser water leaving temp sp',\n",
       " 'condenser water valve isolation cmd',\n",
       " 'cool stage cmd',\n",
       " 'current angle avg sensor',\n",
       " 'current angle phase sensor',\n",
       " 'current imbalance sensor',\n",
       " 'current mag avg sensor',\n",
       " 'current mag phase sensor',\n",
       " 'current thd avg sensor',\n",
       " 'current thd phase sensor',\n",
       " 'current the avg sensor',\n",
       " 'current the phase sensor',\n",
       " 'discharge air fan cmd',\n",
       " 'discharge air fan sensor',\n",
       " 'discharge air flow sensor',\n",
       " 'discharge air humidity sensor',\n",
       " 'discharge air pressure sensor',\n",
       " 'discharge air temp sensor',\n",
       " 'ductArea sp',\n",
       " 'efficiency sensor',\n",
       " 'enable cmd',\n",
       " 'energy export sensor',\n",
       " 'energy import sensor',\n",
       " 'energy net sensor',\n",
       " 'energy phase sensor',\n",
       " 'energy sensor',\n",
       " 'energy total sensor',\n",
       " 'entering air temp sensor',\n",
       " 'evaporator refrig pressure sensor',\n",
       " 'evaporator refrig temp sensor',\n",
       " 'exhaust air damper cmd',\n",
       " 'exhaust air fan cmd',\n",
       " 'faceBypass cmd',\n",
       " 'fan cmd',\n",
       " 'fan sensor',\n",
       " 'filter sensor',\n",
       " 'flue temp sensor',\n",
       " 'freezeStat sensor',\n",
       " 'freq cmd',\n",
       " 'freq sensor',\n",
       " 'heat stage cmd',\n",
       " 'heatWheel cmd',\n",
       " 'hot water bypass valve cmd',\n",
       " 'hot water delta flow sensor',\n",
       " 'hot water delta pressure sensor',\n",
       " 'hot water delta temp sensor',\n",
       " 'hot water entering flow sensor',\n",
       " 'hot water entering pressure sensor',\n",
       " 'hot water entering temp sensor',\n",
       " 'hot water leaving flow sensor',\n",
       " 'hot water leaving pressure sensor',\n",
       " 'hot water leaving temp sensor',\n",
       " 'hot water leaving temp sp',\n",
       " 'hot water mixing valve cmd',\n",
       " 'humidifier cmd',\n",
       " 'level sensor',\n",
       " 'lightLevel',\n",
       " 'load cmd',\n",
       " 'load sensor',\n",
       " 'makeup water flow sensor',\n",
       " 'mixed air temp sensor',\n",
       " 'occupancyIndicator',\n",
       " 'outside air damper cmd',\n",
       " 'outside air flow sensor',\n",
       " 'outside air flow sp',\n",
       " 'outside air humidity sensor',\n",
       " 'outside air pressure sensor',\n",
       " 'outside air temp sensor',\n",
       " 'perimeterHeat cmd',\n",
       " 'pf avg sensor',\n",
       " 'pf phase sensor',\n",
       " 'power export sensor',\n",
       " 'power import sensor',\n",
       " 'power net sensor',\n",
       " 'power sensor',\n",
       " 'pressure sensor',\n",
       " 'reactive power phase sensor',\n",
       " 'reactive power total sensor',\n",
       " 'reheat cmd',\n",
       " 'return air co2 sensor',\n",
       " 'return air damper cmd',\n",
       " 'return air fan cmd',\n",
       " 'return air flow sensor',\n",
       " 'return air humidity sensor',\n",
       " 'return air pressure sensor',\n",
       " 'return air temp sensor',\n",
       " 'run cmd',\n",
       " 'run sensor',\n",
       " 'speed cmd',\n",
       " 'steam bypass valve cmd',\n",
       " 'steam delta flow sensor',\n",
       " 'steam delta pressure sensor',\n",
       " 'steam delta temp sensor',\n",
       " 'steam entering flow sensor',\n",
       " 'steam entering pressure sensor',\n",
       " 'steam header pressure sensor',\n",
       " 'steam leaving flow sensor',\n",
       " 'steam leaving pressure sensor',\n",
       " 'steam leaving temp sensor',\n",
       " 'steam leaving temp sp',\n",
       " 'steam mixing valve cmd',\n",
       " 'temp sensor',\n",
       " 'vavMode sp',\n",
       " 'volt angle avg sensor',\n",
       " 'volt angle phase sensor',\n",
       " 'volt imbalance sensor',\n",
       " 'volt mag avg sensor',\n",
       " 'volt mag phase sensor',\n",
       " 'volt thd avg sensor',\n",
       " 'volt thd phase sensor',\n",
       " 'volt the avg sensor',\n",
       " 'volt the phase sensor',\n",
       " 'zone air co2 sensor',\n",
       " 'zone air co2 sp',\n",
       " 'zone air humidity sensor',\n",
       " 'zone air temp effective sp',\n",
       " 'zone air temp occ cooling sp',\n",
       " 'zone air temp occ heating sp',\n",
       " 'zone air temp sensor',\n",
       " 'zone air temp standby cooling sp',\n",
       " 'zone air temp standby heating sp',\n",
       " 'zone air temp unocc cooling sp',\n",
       " 'zone air temp unocc heating sp']"
      ]
     },
     "execution_count": 148,
     "metadata": {},
     "output_type": "execute_result"
    }
   ],
   "source": [
    "predictor.get_classes()"
   ]
  },
  {
   "cell_type": "code",
   "execution_count": 147,
   "metadata": {},
   "outputs": [
    {
     "data": {
      "text/html": [],
      "text/plain": [
       "<IPython.core.display.HTML object>"
      ]
     },
     "metadata": {},
     "output_type": "display_data"
    },
    {
     "data": {
      "text/plain": [
       "'discharge air flow sensor'"
      ]
     },
     "execution_count": 147,
     "metadata": {},
     "output_type": "execute_result"
    }
   ],
   "source": [
    "predictor.predict('co')"
   ]
  }
 ],
 "metadata": {
  "kernelspec": {
   "display_name": "csb2",
   "language": "python",
   "name": "csb2"
  },
  "language_info": {
   "codemirror_mode": {
    "name": "ipython",
    "version": 3
   },
   "file_extension": ".py",
   "mimetype": "text/x-python",
   "name": "python",
   "nbconvert_exporter": "python",
   "pygments_lexer": "ipython3",
   "version": "3.6.7"
  }
 },
 "nbformat": 4,
 "nbformat_minor": 2
}
