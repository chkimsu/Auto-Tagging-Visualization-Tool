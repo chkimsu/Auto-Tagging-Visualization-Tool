{
 "cells": [
  {
   "cell_type": "markdown",
   "metadata": {},
   "source": [
    "## Module Import"
   ]
  },
  {
   "cell_type": "code",
   "execution_count": 2,
   "metadata": {},
   "outputs": [],
   "source": [
    "from urllib.request import urlopen\n",
    "from bs4 import BeautifulSoup\n",
    "import pandas as pd\n",
    "import re"
   ]
  },
  {
   "cell_type": "markdown",
   "metadata": {},
   "source": [
    "## HTML 및 BeautifulSoup 오브젝트 열기"
   ]
  },
  {
   "cell_type": "code",
   "execution_count": 3,
   "metadata": {},
   "outputs": [],
   "source": [
    "html = urlopen('https://project-haystack.org/tag')\n",
    "bsObject = BeautifulSoup(html, 'html.parser')"
   ]
  },
  {
   "cell_type": "markdown",
   "metadata": {},
   "source": [
    "## 파싱한 데이터에서 쓸데없는 tag 제거하는 함수"
   ]
  },
  {
   "cell_type": "code",
   "execution_count": 4,
   "metadata": {},
   "outputs": [],
   "source": [
    "def remove_tag(content):\n",
    "    cleanr =re.compile('<.*?>')\n",
    "    cleantext = re.sub(cleanr, '', content)\n",
    "    return cleantext"
   ]
  },
  {
   "cell_type": "markdown",
   "metadata": {},
   "source": [
    "## tag 부분만 파싱후 내부 쓸데없는 tag 제거"
   ]
  },
  {
   "cell_type": "code",
   "execution_count": 5,
   "metadata": {},
   "outputs": [],
   "source": [
    "tag = []\n",
    "for i in range(0, len(bsObject.find_all('td')),2):\n",
    "    tag.append(remove_tag(str(bsObject.find_all('td')[i])))"
   ]
  },
  {
   "cell_type": "markdown",
   "metadata": {},
   "source": [
    "## 약 230개의 tag가 있음. "
   ]
  },
  {
   "cell_type": "code",
   "execution_count": 6,
   "metadata": {},
   "outputs": [
    {
     "data": {
      "text/plain": [
       "230"
      ]
     },
     "execution_count": 6,
     "metadata": {},
     "output_type": "execute_result"
    }
   ],
   "source": [
    "len(tag)"
   ]
  },
  {
   "cell_type": "code",
   "execution_count": 7,
   "metadata": {},
   "outputs": [
    {
     "data": {
      "text/plain": [
       "['absorption',\n",
       " 'ac',\n",
       " 'active',\n",
       " 'ahu',\n",
       " 'ahuRef',\n",
       " 'air',\n",
       " 'airCooled',\n",
       " 'angle',\n",
       " 'apparent',\n",
       " 'area',\n",
       " 'avg',\n",
       " 'barometric',\n",
       " 'blowdown',\n",
       " 'boiler',\n",
       " 'bypass',\n",
       " 'centrifugal',\n",
       " 'chilled',\n",
       " 'chilledBeamZone',\n",
       " 'chilledWaterCool',\n",
       " 'chilledWaterPlant',\n",
       " 'chilledWaterPlantRef',\n",
       " 'chiller',\n",
       " 'circ',\n",
       " 'circuit',\n",
       " 'closedLoop',\n",
       " 'cloudage',\n",
       " 'cmd',\n",
       " 'co',\n",
       " 'co2',\n",
       " 'coldDeck',\n",
       " 'condensate',\n",
       " 'condenser',\n",
       " 'connection',\n",
       " 'constantVolume',\n",
       " 'cool',\n",
       " 'coolOnly',\n",
       " 'cooling',\n",
       " 'coolingCapacity',\n",
       " 'coolingTower',\n",
       " 'cur',\n",
       " 'curErr',\n",
       " 'curStatus',\n",
       " 'curVal',\n",
       " 'current',\n",
       " 'damper',\n",
       " 'dc',\n",
       " 'delta',\n",
       " 'device',\n",
       " 'device1Ref',\n",
       " 'device2Ref',\n",
       " 'dew',\n",
       " 'directZone',\n",
       " 'direction',\n",
       " 'dis',\n",
       " 'discharge',\n",
       " 'diverting',\n",
       " 'domestic',\n",
       " 'dualDuct',\n",
       " 'ductArea',\n",
       " 'dxCool',\n",
       " 'effective',\n",
       " 'efficiency',\n",
       " 'elec',\n",
       " 'elecHeat',\n",
       " 'elecMeterLoad',\n",
       " 'elecMeterRef',\n",
       " 'elecPanel',\n",
       " 'elecPanelOf',\n",
       " 'elecReheat',\n",
       " 'enable',\n",
       " 'energy',\n",
       " 'entering',\n",
       " 'enum',\n",
       " 'equip',\n",
       " 'equipRef',\n",
       " 'evaporator',\n",
       " 'exhaust',\n",
       " 'export',\n",
       " 'faceBypass',\n",
       " 'fan',\n",
       " 'fanPowered',\n",
       " 'fcu',\n",
       " 'filter',\n",
       " 'flow',\n",
       " 'flue',\n",
       " 'freezeStat',\n",
       " 'freq',\n",
       " 'gas',\n",
       " 'gasHeat',\n",
       " 'gasMeterLoad',\n",
       " 'geoAddr',\n",
       " 'geoCity',\n",
       " 'geoCoord',\n",
       " 'geoCountry',\n",
       " 'geoCounty',\n",
       " 'geoPostalCode',\n",
       " 'geoState',\n",
       " 'geoStreet',\n",
       " 'header',\n",
       " 'heat',\n",
       " 'heatExchanger',\n",
       " 'heatPump',\n",
       " 'heatWheel',\n",
       " 'heating',\n",
       " 'his',\n",
       " 'hisErr',\n",
       " 'hisInterpolate',\n",
       " 'hisStatus',\n",
       " 'hisTotalized',\n",
       " 'hot',\n",
       " 'hotDeck',\n",
       " 'hotWaterHeat',\n",
       " 'hotWaterPlant',\n",
       " 'hotWaterPlantRef',\n",
       " 'hotWaterReheat',\n",
       " 'humidifier',\n",
       " 'humidity',\n",
       " 'hvac',\n",
       " 'id',\n",
       " 'imbalance',\n",
       " 'import',\n",
       " 'irradiance',\n",
       " 'isolation',\n",
       " 'kind',\n",
       " 'leaving',\n",
       " 'level',\n",
       " 'lightLevel',\n",
       " 'lighting',\n",
       " 'lights',\n",
       " 'lightsGroup',\n",
       " 'load',\n",
       " 'mag',\n",
       " 'makeup',\n",
       " 'mau',\n",
       " 'max',\n",
       " 'maxVal',\n",
       " 'meter',\n",
       " 'min',\n",
       " 'minVal',\n",
       " 'mixed',\n",
       " 'mixing',\n",
       " 'multiZone',\n",
       " 'net',\n",
       " 'network',\n",
       " 'networkRef',\n",
       " 'neutralDeck',\n",
       " 'occ',\n",
       " 'occupancyIndicator',\n",
       " 'occupied',\n",
       " 'oil',\n",
       " 'openLoop',\n",
       " 'outside',\n",
       " 'parallel',\n",
       " 'perimeterHeat',\n",
       " 'pf',\n",
       " 'phase',\n",
       " 'point',\n",
       " 'power',\n",
       " 'precipitation',\n",
       " 'pressure',\n",
       " 'pressureDependent',\n",
       " 'pressureIndependent',\n",
       " 'primaryFunction',\n",
       " 'primaryLoop',\n",
       " 'protocol',\n",
       " 'pump',\n",
       " 'reactive',\n",
       " 'reciprocal',\n",
       " 'refrig',\n",
       " 'reheat',\n",
       " 'reheating',\n",
       " 'return',\n",
       " 'rooftop',\n",
       " 'run',\n",
       " 'screw',\n",
       " 'secondaryLoop',\n",
       " 'sensor',\n",
       " 'series',\n",
       " 'singleDuct',\n",
       " 'site',\n",
       " 'siteMeter',\n",
       " 'sitePanel',\n",
       " 'siteRef',\n",
       " 'solar',\n",
       " 'sp',\n",
       " 'speed',\n",
       " 'stage',\n",
       " 'standby',\n",
       " 'steam',\n",
       " 'steamHeat',\n",
       " 'steamMeterLoad',\n",
       " 'steamPlant',\n",
       " 'steamPlantRef',\n",
       " 'subPanelOf',\n",
       " 'submeterOf',\n",
       " 'sunrise',\n",
       " 'tank',\n",
       " 'temp',\n",
       " 'thd',\n",
       " 'total',\n",
       " 'tripleDuct',\n",
       " 'tz',\n",
       " 'unit',\n",
       " 'unocc',\n",
       " 'uv',\n",
       " 'valve',\n",
       " 'variableVolume',\n",
       " 'vav',\n",
       " 'vavMode',\n",
       " 'vavZone',\n",
       " 'vfd',\n",
       " 'visibility',\n",
       " 'volt',\n",
       " 'volume',\n",
       " 'water',\n",
       " 'waterCooled',\n",
       " 'waterMeterLoad',\n",
       " 'weather',\n",
       " 'weatherCond',\n",
       " 'weatherPoint',\n",
       " 'weatherRef',\n",
       " 'wetBulb',\n",
       " 'wind',\n",
       " 'writable',\n",
       " 'writeErr',\n",
       " 'writeLevel',\n",
       " 'writeStatus',\n",
       " 'writeVal',\n",
       " 'yearBuilt',\n",
       " 'zone']"
      ]
     },
     "execution_count": 7,
     "metadata": {},
     "output_type": "execute_result"
    }
   ],
   "source": [
    "tag"
   ]
  },
  {
   "cell_type": "code",
   "execution_count": 8,
   "metadata": {},
   "outputs": [],
   "source": [
    "tagframe = pd.DataFrame(tag)"
   ]
  },
  {
   "cell_type": "markdown",
   "metadata": {},
   "source": [
    "## tag의 내용(content)에 대한 parsing"
   ]
  },
  {
   "cell_type": "code",
   "execution_count": 9,
   "metadata": {},
   "outputs": [],
   "source": [
    "doc = bsObject.find_all('p')"
   ]
  },
  {
   "cell_type": "code",
   "execution_count": 10,
   "metadata": {},
   "outputs": [],
   "source": [
    "content = []\n",
    "for i in range(len(doc)):\n",
    "    content.append(re.sub('<.+?>','',str(doc[i]),0).strip())"
   ]
  },
  {
   "cell_type": "markdown",
   "metadata": {},
   "source": [
    "## 페이지 마지막에 license 항목이 하나 잇어서 길이 안맞아 제거."
   ]
  },
  {
   "cell_type": "code",
   "execution_count": 11,
   "metadata": {},
   "outputs": [],
   "source": [
    "content = content[:-1]   ## 마지막에 license 제외해줘야 한다. "
   ]
  },
  {
   "cell_type": "code",
   "execution_count": 12,
   "metadata": {},
   "outputs": [
    {
     "data": {
      "text/plain": [
       "['Indicates a chiller which uses absorption driven by hot water (as opposed to vapor compression).',\n",
       " 'Indicates an alternating current (AC) electrical quantity or device.',\n",
       " 'Applied to an electrical power point to indicate active power or real power, typically measured in \"kW\".',\n",
       " 'Air Handler Unit which heats and/or cools air.',\n",
       " 'Associate an entity such as a vav with an ahu.',\n",
       " 'Point associated with the measurement or control of air.',\n",
       " 'Indicates chiller which uses air to cool the hot refrigerant.',\n",
       " 'Indicates an angle measurement.',\n",
       " 'Applied to an electrical power point to indicate apparent power, typically measured in \"kVA\".',\n",
       " 'Floor area of a site measured in ft² or m².',\n",
       " 'Indicates an average quantity.',\n",
       " 'Defines the mean atmospheric pressure at sea level measured in millibar or inHg.',\n",
       " 'Paired with water to indicate control or measurement of the blowdown water expelled from a coolingTower or boiler to remove mineral build up.',\n",
       " 'Boiler equip used to generate hot water or steam for heating.',\n",
       " 'If used with valve indicates a by-pass in a piping system.',\n",
       " 'Indicates chiller compressor which uses a continuous flow of fluid through an impeller.',\n",
       " 'Marker tag used with water for the chilled water system between the plant and ahu.',\n",
       " 'Marker for an ahu which delivers air to zones via chilled beam terminal units.',\n",
       " 'Indicates that a unit has cooling capability using chilled water.',\n",
       " 'Models the entire plant and its system of equipment used to generate chilled water.',\n",
       " 'Associate a record such as an ahu with its chilledWaterPlant.',\n",
       " 'Chillers remove heat from a liquid via a vapor compression or an absorption refrigeration cycle.',\n",
       " 'Indicates a pump designed to circulate a fluid through an equipment such as a boiler.',\n",
       " 'An equip which models an electric circuit housed in an elecPanel.',\n",
       " 'Indicates coolingTower which keeps the working fluid separate from the fluid used for heat transfer into the atmosphere.',\n",
       " 'The fraction of the sky obscured by clouds.',\n",
       " 'Classifies a point as an output, AO/BO, command, or actuator.',\n",
       " 'Carbon monoxide level point measured in \"ppm\".',\n",
       " 'Carbon dioxide level point measured in \"ppm\".',\n",
       " 'Associated with the cold air ductwork in a dualDuct or tripleDuct AHU.',\n",
       " 'Paired with water to indicate control or measurement of the condensate water in a coolingTower or boiler.',\n",
       " 'When combined with the water tag, this indicates points in a condenser water system between a chiller and coolingTower.',\n",
       " 'Marker tag for a logical network connection between two devices using a specific communications protocol.',\n",
       " 'Marks an ahu as delivering a constant volume of air flow.',\n",
       " 'Cooling coil as bool or numeric point used with ahu equip.',\n",
       " 'Indicates a cooling only VAV without a fan.',\n",
       " 'Associated with the cooling mode of an HVAC system.',\n",
       " 'Measurement of a chiller ability to remove heat measured in \"tonref\", \"BTU/h\", or \"kW\".',\n",
       " 'Cooling towers are used to transfer process waste heat to the atmosphere.',\n",
       " 'Marker tag which indicates the point has capability for subscription to its real-time, current value.',\n",
       " 'Error message associated when curStatus indicates an error condition.',\n",
       " 'Current status of a point curVal as one of the predefined strings',\n",
       " 'Current value of a point or other value record',\n",
       " 'Models a point associated with electrical current; should be paired with one of the following tags',\n",
       " 'Marker tag on point which indicates a damper used to regulate or control the flow or pressure of air.',\n",
       " 'Indicates a direct current (DC) electrical quantity or device.',\n",
       " 'Indicates a differential of air, water, or steam between the entering and leaving sensors.',\n",
       " 'Models a physical device on a communication network.',\n",
       " 'Models the first end point device of a connection',\n",
       " 'Models the second end point device of a connection',\n",
       " 'Defines the dew point temperature of a weather station.',\n",
       " 'Marker for an ahu which delivers air directly to a zone.',\n",
       " 'Cardinal or compass direction measured in degrees',\n",
       " 'Short display name for an entity.',\n",
       " 'Associated with the discharge air an ahu or vav.',\n",
       " 'Indicates a three way valve which inputs one pipe and diverts between two output pipes.',\n",
       " 'Paired with water to indicate control or measurement of tap water used for drinking, washing, cooking, and flushing of toliets.',\n",
       " 'Indicates an ahu which discharges into two ducts which are some combinatin of hotDeck, coldDeck, or neutralDeck.',\n",
       " 'Config point on a vav for duct area measured in ft² or m².',\n",
       " 'Indicates that a unit has cooling capability using direct expansion mechanical cooling.',\n",
       " 'Used to indicate the effective setpoint which takes into account various other mode based setpoints the equip might define.',\n",
       " 'Efficiency point of a chiller measured in \"COP\" or \"kW/ton\".',\n",
       " 'Used on point or equip entities relating to electricity.',\n",
       " 'Indicates that a unit has heating capability using electric heat.',\n",
       " 'Equip or point which consumes energy as electrial load.',\n",
       " 'Associates a piece of equipment with an elec meter.',\n",
       " 'An equip which models the physical housing for electric circuits.',\n",
       " 'Associates a circuit with its elecPanel.',\n",
       " 'Indicates a VAV with electric reheat.',\n",
       " 'Secondary on/off point of an equip especially used with a vfd.',\n",
       " 'Applied to point entities which measure energy consumption.',\n",
       " 'Indicates water or steam entering a piece of equipment like a boiler or chiller.',\n",
       " 'Comma separated list of text names to use for Bool or Str point.',\n",
       " 'Equipment asset.',\n",
       " 'Association with an equip entity.',\n",
       " 'Indicates points on the evaporator mechanism used to convert a refrigerant from its liquid to gageous state.',\n",
       " 'Associated with the exhaust air an ahu.',\n",
       " 'Models the power or energy exported to the electric grid.',\n",
       " 'A point of an ahu indicating air flow is by-passing the heating/cooling elements.',\n",
       " 'Fan point or equip associated with an ahu, vav, or coolingTower.',\n",
       " 'Indicates a VAV with a fan.',\n",
       " 'Fan coil units are unitary heating/cooling assets which use the zone itself for supply air.',\n",
       " 'Differential pressure across the filter of an ahu.',\n",
       " 'Marker tag on a point which measures rate of volume currently flowing through a flow meter, duct, or pipe .',\n",
       " 'Indicates points placed in the flue-gas stack of a boiler system.',\n",
       " 'A boolean point of an ahu indicating a freezing condition which might require a control sequence to protect the equipment.',\n",
       " 'Electrical A/C frequency point measured in \"Hz\" for elec meter or a vfd.',\n",
       " 'Used on point or equip entities relating to natural gas.',\n",
       " 'Indicates that a unit has heating capability using gas heat.',\n",
       " 'Equip or point which consumes fuel gas as load.',\n",
       " 'Geographic street address.',\n",
       " 'Geographic city or locality name.',\n",
       " 'Geographic coordinate as \"C(latitude,longitude)\"',\n",
       " 'Geographic country as ISO 3166-1 two letter code.',\n",
       " 'Geographic subdivision of US state.',\n",
       " 'Geographic postal code; for US this is a five digit zip code.',\n",
       " 'State or province name; for US this is two letter state code.',\n",
       " 'Geographic street number and name.',\n",
       " 'Header pipe used as central connection or manifold for other piping runs.',\n",
       " 'Heating coil as bool or float point on an ahu or vav.',\n",
       " 'Heat exchangers are used to transfer heat from one medium to another.',\n",
       " 'Heat pumps are unitary assets which use a refrigeration cycle for both heating and cooling.',\n",
       " 'Bool point which models the on or off state of an ahu heat wheel.',\n",
       " 'Associated with the heating mode of an HVAC system.',\n",
       " 'Indicates that a point is historized with a history log of timestamp/value pairs.',\n",
       " 'Error message associated when hisStatus indicates an error condition.',\n",
       " 'Indicates how interpolation of a historized point should be handled.',\n",
       " 'Current status of a point history sync as one of the predefined strings',\n",
       " 'Indicates values which are a continuous stream of totalization and should be read by computing the delta.',\n",
       " 'Paired with water to indicate control or measurement of hot water.',\n",
       " 'Associated with the hot air ductwork in a dualDuct or tripleDuct AHU.',\n",
       " 'Indicates that a unit has heating capability using hot water.',\n",
       " 'Plant level tag for system which outputs hot water',\n",
       " 'Associate an entity such as an ahu with its hotWaterPlant.',\n",
       " 'Indicates a VAV with hot water reheat.',\n",
       " 'Boolean or numeric point of an ahu used to indicate if if the humidifier is on or off.',\n",
       " 'Humidity measured in %RH (percent relative humidity).',\n",
       " 'Associated with HVAC (Heating, Ventilating, Air Conditioning)',\n",
       " 'Unique identifier for an entity.',\n",
       " 'In electrical power systems, models an ac volt or current phase imbalance measured in \"%\".',\n",
       " 'Models the power or energy imported from the electric grid.',\n",
       " \"Combined with solar to measure the amount of energy arriving at the earth's surface measured in W/m².\",\n",
       " 'Indicates a valve or damper used to isolate a piece of equipment from a piping system or ductwork respectively.',\n",
       " 'Defines a tag value type using a predefined string constant.',\n",
       " 'Indicates water or steam exiting a piece of equipment like a boiler or chiller.',\n",
       " 'Indicates the fill level of a tank as a percentage where 0% is empty and 100% is filled.',\n",
       " 'Light level sensor point under lightsGroup measured in \"lux\" or \"lumen\".',\n",
       " 'Indicates association with the lighting system.',\n",
       " 'Lighting on/off status as a boolean or if dimmable a numeric between 0% and 100%.',\n",
       " 'Equip level of the lighting system which is a group of one or more lights points.',\n",
       " 'Models a point on a chiller used to command or measure the chiller\\'s load as a percentage from \"0%\" to \"100%\".',\n",
       " 'Models the magnitude of a volt or current point.',\n",
       " 'Paired with water to indicate control or measurement of the makeup water in a coolingTower or boiler used to replace water lost through leaks, evaporation, or blowdown.',\n",
       " 'Used with ahu to mark an AHU as a makeup air handling unit which conditions 100% outside air, and no recirculated air.',\n",
       " 'Associated with a maximum value.',\n",
       " 'Applied to point to define the maximum value to read from a sensor or to write from a command/setpoint.',\n",
       " 'Equip which meters usage of elec energy, thermal energy, gas, water or steam.',\n",
       " 'Associated with a minumum value.',\n",
       " 'Applied to point to define the minumum value to read from a sensor or to write from a command/setpoint.',\n",
       " 'Associated with the mixed air of an ahu.',\n",
       " 'Indicates a three way valve which inputs two pipes and outputs a mixture between the two to a single output pipe.',\n",
       " 'Marker for an ahu which delivers air to its zones via a ductwork manifold which splits the air into a duct per zone.',\n",
       " 'Models the net power or energy exchange with the electric grid following the load convention: import minus export.',\n",
       " 'Network models a communication network between multiple devices.',\n",
       " 'Models the network of a connection',\n",
       " 'Associated with the neutral air ductwork in a dualDuct or tripleDuct AHU.',\n",
       " 'Marker tag used to indicate a setpoint is associated with occupied mode.',\n",
       " 'Occupancy sensor under lightsGroup.',\n",
       " 'Marker tag used with a boolean point to indicate whether a site or zone is occupied (true) or unoccupied (false).',\n",
       " 'Used on point or equip entities relating to fuel oil.',\n",
       " 'Indicates coolingTower which uses the working fluid itself for evaporation into the atmosphere.',\n",
       " 'Associated with outside air, often used to model ahu points.',\n",
       " 'Indicates the VAV fan pulls air from outside the primary airflow.',\n",
       " 'Auxiliary heating points associated with a vav.',\n",
       " 'Power factor of an elec meter as a unitless number between 0.0 and 1.0 which represents the ratio of active power to apparent power.',\n",
       " 'Association of one or more phases in a three-phase electrical system.',\n",
       " 'Data point such as a sensor or actuator.',\n",
       " 'Applied to point entities which measure energy consumed per unit time.',\n",
       " 'Amount of atmospheric water vapor fallen which includes rain, drizzle, sleet, snow, and hail measured in mm or inches.',\n",
       " 'Static pressure associated with the measurement or control of fluids such as air, oxygen, water, steam, gas, oil, etc.',\n",
       " 'VAV damper modulates to control space temp.',\n",
       " 'VAV damper or a control valve that modulates to maintain desired flow setpoint, independent of the duct or piping pressure.',\n",
       " \"Enumerated string applied to a site record to indicate the building's primary function.\",\n",
       " \"Indicates equipment and points which are associated with a chiller or boiler plant's primary loop - the pipework within the central plant.\",\n",
       " 'String enumeration for a connection communication protocol.',\n",
       " 'Marker tag for an equip or point which models a pump.',\n",
       " 'Applied to an electrical power point to indicate reactive power or imaginary power, typically measured in \"kVAR\".',\n",
       " 'Indicates chiller compressor which uses pistons driven by a crankshaft.',\n",
       " 'Indicates points associated with the measurment or control of the refrigerant substance in a cooling system like a chiller.',\n",
       " 'Reheat point of a vav.',\n",
       " 'Associated with the reheating mode of a VAV.',\n",
       " 'Associated with the return air an ahu.',\n",
       " 'Used with ahu to mark an AHU as a packaged rooftop unit (RTU).',\n",
       " 'Primary on/off point of an equip especially used with a vfd.',\n",
       " 'Indicates chiller compressor which uses a rotary mechanism.',\n",
       " \"Indicates equipment and points which are associated with a chiller or boiler plant's secondary loop - the pipework from the central plant to the building.\",\n",
       " 'Classifies a point as an input, AI/BI, or sensor.',\n",
       " 'Indicates the VAV pulls air from the primary airflow.',\n",
       " 'Indicates an ahu which uses a single duct for all air flow.',\n",
       " 'Building or other type of facility with unique street address.',\n",
       " 'Applied to a meter which exclusively meters a single site identified by siteRef.',\n",
       " 'Marker tag for a elecPanel to indicate its the main site-level panel.',\n",
       " 'Association with a site entity.',\n",
       " 'Point associated with the measurement of the sunlight.',\n",
       " 'Classifies a point as a setpoint, soft point, or process control variable.',\n",
       " 'When used as a vfd point it is speed measured in \"%\" where 0% is off and 100% is the fastest speed.',\n",
       " 'Indicates the stage of an AHU cooling or heating element.',\n",
       " 'Marker tag used to indicate a setpoint is associated with standby mode.',\n",
       " 'Point associated with the measurement or control of steam.',\n",
       " 'Indicates that a unit has heating capability using steam.',\n",
       " 'Equip or point which consumes steam as load.',\n",
       " 'Plant level tag for system which outputs steam',\n",
       " 'Associate an entity such as an ahu with its steamPlant.',\n",
       " 'Ref tag to indicate that an elecPanel is positioned underneath another panel in the electric distribution system.',\n",
       " 'This tag is applied to submeters and references the parent meter.',\n",
       " 'Boolean point associated with a weather station for historizing sunrise and sunset times.',\n",
       " 'Marker tag for an equip which models a storage tank vessel.',\n",
       " 'Temperature measured in °C or °F.',\n",
       " 'In electrical power systems, models the total harmonic distortion of a volt or current point measured in \"%\".',\n",
       " 'Indicates a total quantity.',\n",
       " 'Indicates an ahu which discharges into three ducts which are the hotDeck, coldDeck, and neutralDeck.',\n",
       " 'Timezone identifier string which is a city name from the zoneinfo database.',\n",
       " 'Unit of measurement identifier from unit database.',\n",
       " 'Marker tag used to indicate a setpoint is associated with unoccupied mode.',\n",
       " 'Unit ventilators are unitary heating/cooling assets which have direct access to outside fresh air.',\n",
       " 'Marker tag on point which indicates a valve used to regulate or control the flow or pressure of a fluid.',\n",
       " 'Marks an ahu as delivering a variable volume of air flow.',\n",
       " 'Variable Volume Volume supply duct equip.',\n",
       " \"Enumerated Str point which specifies a VAV's operating mode as one the following standardized string values\",\n",
       " 'Marker for an ahu which delivers air to zones via vav terminal units.',\n",
       " 'Marker for a motor equip with variable frequency drive.',\n",
       " 'Distance at which light can be clearly discerned measured in km or miles.',\n",
       " 'Models a point associated with electrical voltage; should be paired with one of the following tags',\n",
       " 'Marker tag on a point which measures total volume which has flowed through a meter, duct, or pipe.',\n",
       " 'Point associated with the measurement or control of water.',\n",
       " 'Indicates chiller which uses water to cool the hot refrigerant.',\n",
       " 'Equip or point which consumes water as load.',\n",
       " 'Marker tag for a weather station entity.',\n",
       " 'Used with a Str enum point to enumerate conditions with one of the following string values',\n",
       " 'Point sensor value associated with a weather station.',\n",
       " 'Associates an entity with a weather station.',\n",
       " 'Associates a point with the wet-bulb temperature.',\n",
       " 'Point associated with the measurement of the wind.',\n",
       " 'Annotates a point as a writable output with 16-level priority array.',\n",
       " 'Error message associated when writeStatus indicates an error condition.',\n",
       " 'Current priority level for writeVal as number between 1 and 17.',\n",
       " 'Current status of a writable point output',\n",
       " 'Current desired value to write to output.',\n",
       " 'Tag on site which is four digit year that a building was first built.',\n",
       " 'Associated with a conditioned zone of a building.']"
      ]
     },
     "execution_count": 12,
     "metadata": {},
     "output_type": "execute_result"
    }
   ],
   "source": [
    "content"
   ]
  },
  {
   "cell_type": "markdown",
   "metadata": {},
   "source": [
    "## tag와 마찬가지로 230개의 content"
   ]
  },
  {
   "cell_type": "code",
   "execution_count": 18,
   "metadata": {},
   "outputs": [
    {
     "data": {
      "text/plain": [
       "230"
      ]
     },
     "execution_count": 18,
     "metadata": {},
     "output_type": "execute_result"
    }
   ],
   "source": [
    "len(content)"
   ]
  },
  {
   "cell_type": "code",
   "execution_count": 13,
   "metadata": {},
   "outputs": [],
   "source": [
    "contentframe = pd.DataFrame(content)"
   ]
  },
  {
   "cell_type": "markdown",
   "metadata": {},
   "source": [
    "## 최종 output 형태(임의대로 변경)로 저장"
   ]
  },
  {
   "cell_type": "code",
   "execution_count": 14,
   "metadata": {},
   "outputs": [],
   "source": [
    "result = pd.concat([tagframe, contentframe], axis=1)\n",
    "result.columns = ['tag', 'content']"
   ]
  },
  {
   "cell_type": "code",
   "execution_count": 28,
   "metadata": {},
   "outputs": [],
   "source": [
    "pd.set_option('display.max_colwidth', -1)"
   ]
  },
  {
   "cell_type": "code",
   "execution_count": 33,
   "metadata": {},
   "outputs": [
    {
     "data": {
      "text/plain": [
       "tag        area                                       \n",
       "content    Floor area of a site measured in ft² or m².\n",
       "Name: 9, dtype: object"
      ]
     },
     "execution_count": 33,
     "metadata": {},
     "output_type": "execute_result"
    }
   ],
   "source": [
    "result.iloc[9]"
   ]
  },
  {
   "cell_type": "code",
   "execution_count": 25,
   "metadata": {},
   "outputs": [],
   "source": [
    "result.to_csv('tag-content.csv')"
   ]
  }
 ],
 "metadata": {
  "kernelspec": {
   "display_name": "csb2",
   "language": "python",
   "name": "csb2"
  },
  "language_info": {
   "codemirror_mode": {
    "name": "ipython",
    "version": 3
   },
   "file_extension": ".py",
   "mimetype": "text/x-python",
   "name": "python",
   "nbconvert_exporter": "python",
   "pygments_lexer": "ipython3",
   "version": "3.6.7"
  }
 },
 "nbformat": 4,
 "nbformat_minor": 2
}
