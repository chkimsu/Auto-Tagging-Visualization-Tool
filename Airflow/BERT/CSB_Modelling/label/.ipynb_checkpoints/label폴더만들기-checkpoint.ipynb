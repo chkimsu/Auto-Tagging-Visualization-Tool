{
 "cells": [
  {
   "cell_type": "markdown",
   "metadata": {},
   "source": [
    "---\n",
    "## label별 폴더 만들기\n",
    "---"
   ]
  },
  {
   "cell_type": "code",
   "execution_count": 1,
   "metadata": {},
   "outputs": [],
   "source": [
    "import os\n",
    "os.chdir('/data01/CSB/CSB_Jupyter/ATVT/BERT/CSB_Modelling/label/temp/')"
   ]
  },
  {
   "cell_type": "markdown",
   "metadata": {},
   "source": [
    "#### train label 폴더 만들기"
   ]
  },
  {
   "cell_type": "code",
   "execution_count": 2,
   "metadata": {},
   "outputs": [],
   "source": [
    "import pandas as pd\n",
    "import os\n",
    "\n",
    "for i in range(len(os.listdir())):\n",
    "    data = pd.read_csv(os.listdir()[i]+'/'+os.listdir()[i]+'.txt', header = None)\n",
    "    for j in range(len(data)):\n",
    "        if data.iloc[j,0] in os.listdir('/data01/CSB/CSB_Jupyter/ATVT/BERT/CSB_Modelling/label/train'):\n",
    "            continue\n",
    "        else : \n",
    "            os.mkdir('/data01/CSB/CSB_Jupyter/ATVT/BERT/CSB_Modelling/label/train/'+data.iloc[j,0])\n",
    "            os.mkdir('/data01/CSB/CSB_Jupyter/ATVT/BERT/CSB_Modelling/label/test/'+data.iloc[j,0])"
   ]
  },
  {
   "cell_type": "markdown",
   "metadata": {},
   "source": [
    "---\n",
    "## label별 txt파일만들기\n",
    "---"
   ]
  },
  {
   "cell_type": "code",
   "execution_count": 3,
   "metadata": {},
   "outputs": [
    {
     "name": "stdout",
     "output_type": "stream",
     "text": [
      "using Keras version: 2.2.4-tf\n"
     ]
    }
   ],
   "source": [
    "import os\n",
    "# import ktrain and the ktrain.text modules\n",
    "from ktrain import text\n",
    "import ktrain\n",
    "import numpy as np \n",
    "import pandas as pd\n",
    "import math \n",
    "import numpy as np\n",
    "from sklearn import preprocessing\n",
    "\n"
   ]
  },
  {
   "cell_type": "code",
   "execution_count": 4,
   "metadata": {},
   "outputs": [],
   "source": [
    "os.chdir('/data01/CSB/CSB_Jupyter/ATVT/BERT/CSB_Modelling/fuzzywuzzy')"
   ]
  },
  {
   "cell_type": "code",
   "execution_count": 5,
   "metadata": {},
   "outputs": [],
   "source": [
    "\n",
    "data = pd.concat([pd.read_csv('NAE08_fuzzy.csv'), pd.read_csv('NAE07_fuzzy.csv'), pd.read_csv('NAE06_fuzzy.csv'), pd.read_csv('NAE04_fuzzy.csv'), pd.read_csv('NAE03_fuzzy.csv'),\n",
    "                  pd.read_csv('NAE02_fuzzy.csv')])"
   ]
  },
  {
   "cell_type": "code",
   "execution_count": 6,
   "metadata": {},
   "outputs": [
    {
     "data": {
      "text/html": [
       "<div>\n",
       "<style scoped>\n",
       "    .dataframe tbody tr th:only-of-type {\n",
       "        vertical-align: middle;\n",
       "    }\n",
       "\n",
       "    .dataframe tbody tr th {\n",
       "        vertical-align: top;\n",
       "    }\n",
       "\n",
       "    .dataframe thead th {\n",
       "        text-align: right;\n",
       "    }\n",
       "</style>\n",
       "<table border=\"1\" class=\"dataframe\">\n",
       "  <thead>\n",
       "    <tr style=\"text-align: right;\">\n",
       "      <th></th>\n",
       "      <th>Unnamed: 0</th>\n",
       "      <th>PROP_OBJECT_IDENTIFIER</th>\n",
       "      <th>PROP_OBJECT_NAME</th>\n",
       "      <th>PROP_DESCRIPTION</th>\n",
       "      <th>label</th>\n",
       "      <th>Unnamed: 0.1</th>\n",
       "    </tr>\n",
       "  </thead>\n",
       "  <tbody>\n",
       "    <tr>\n",
       "      <th>0</th>\n",
       "      <td>0</td>\n",
       "      <td>OBJECT_DEVICE_509</td>\n",
       "      <td>MeSH_Boiler'NAE08\\MeSH_Notification'</td>\n",
       "      <td>8th floor mechanical room</td>\n",
       "      <td>ahus zone air temp effective sp</td>\n",
       "      <td>NaN</td>\n",
       "    </tr>\n",
       "    <tr>\n",
       "      <th>1</th>\n",
       "      <td>1</td>\n",
       "      <td>OBJECT_ANALOG_INPUT_3000054</td>\n",
       "      <td>MeSH_Boiler'NAE08/MeSH_Flow Rate, Voumetric, C...</td>\n",
       "      <td>Zone2 Temperature</td>\n",
       "      <td>ahus zone air temp sensor</td>\n",
       "      <td>NaN</td>\n",
       "    </tr>\n",
       "    <tr>\n",
       "      <th>2</th>\n",
       "      <td>2</td>\n",
       "      <td>OBJECT_ANALOG_INPUT_3000056</td>\n",
       "      <td>MeSH_Boiler'NAE08/MeSH_Flow Rate, Voumetric, C...</td>\n",
       "      <td>Zone 1 Temperature</td>\n",
       "      <td>ahus zone air temp sensor</td>\n",
       "      <td>NaN</td>\n",
       "    </tr>\n",
       "    <tr>\n",
       "      <th>3</th>\n",
       "      <td>3</td>\n",
       "      <td>OBJECT_ANALOG_INPUT_3000071</td>\n",
       "      <td>MeSH_Boiler'NAE08/MeSH_Flow Rate, Voumetric, C...</td>\n",
       "      <td>Zone2 Temperature</td>\n",
       "      <td>ahus zone air temp sensor</td>\n",
       "      <td>NaN</td>\n",
       "    </tr>\n",
       "    <tr>\n",
       "      <th>4</th>\n",
       "      <td>4</td>\n",
       "      <td>OBJECT_ANALOG_INPUT_3000073</td>\n",
       "      <td>MeSH_Boiler'NAE08/MeSH_Flow Rate, Voumetric, C...</td>\n",
       "      <td>Zone 1 Temperature</td>\n",
       "      <td>ahus zone air temp sensor</td>\n",
       "      <td>NaN</td>\n",
       "    </tr>\n",
       "    <tr>\n",
       "      <th>...</th>\n",
       "      <td>...</td>\n",
       "      <td>...</td>\n",
       "      <td>...</td>\n",
       "      <td>...</td>\n",
       "      <td>...</td>\n",
       "      <td>...</td>\n",
       "    </tr>\n",
       "    <tr>\n",
       "      <th>2368</th>\n",
       "      <td>2368</td>\n",
       "      <td>OBJECT_TRENDLOG_3012960</td>\n",
       "      <td>MeSH_Boiler'NAE02/MeSH_Flow Rate, Voumetric, C...</td>\n",
       "      <td>NaN</td>\n",
       "      <td>NaN</td>\n",
       "      <td>2368.0</td>\n",
       "    </tr>\n",
       "    <tr>\n",
       "      <th>2369</th>\n",
       "      <td>2369</td>\n",
       "      <td>OBJECT_TRENDLOG_3013010</td>\n",
       "      <td>MeSH_Boiler'NAE02/MeSH_Flow Rate, Voumetric, C...</td>\n",
       "      <td>NaN</td>\n",
       "      <td>NaN</td>\n",
       "      <td>2369.0</td>\n",
       "    </tr>\n",
       "    <tr>\n",
       "      <th>2370</th>\n",
       "      <td>2370</td>\n",
       "      <td>OBJECT_TRENDLOG_3013011</td>\n",
       "      <td>MeSH_Boiler'NAE02/MeSH_Flow Rate, Voumetric, C...</td>\n",
       "      <td>NaN</td>\n",
       "      <td>NaN</td>\n",
       "      <td>2370.0</td>\n",
       "    </tr>\n",
       "    <tr>\n",
       "      <th>2371</th>\n",
       "      <td>2371</td>\n",
       "      <td>OBJECT_POSITIVE_INTEGER_VALUE_3012518</td>\n",
       "      <td>MeSH_Boiler'NAE02/MeSH_Flow Rate, Voumetric, C...</td>\n",
       "      <td>Hour counter [h]</td>\n",
       "      <td>ahus cool stage cmd</td>\n",
       "      <td>2371.0</td>\n",
       "    </tr>\n",
       "    <tr>\n",
       "      <th>2372</th>\n",
       "      <td>2372</td>\n",
       "      <td>OBJECT_POSITIVE_INTEGER_VALUE_3012526</td>\n",
       "      <td>MeSH_Boiler'NAE02/MeSH_Flow Rate, Voumetric, C...</td>\n",
       "      <td>Serial Number [number]</td>\n",
       "      <td>ahus humidifier cmd</td>\n",
       "      <td>2372.0</td>\n",
       "    </tr>\n",
       "  </tbody>\n",
       "</table>\n",
       "<p>7964 rows × 6 columns</p>\n",
       "</div>"
      ],
      "text/plain": [
       "      Unnamed: 0                 PROP_OBJECT_IDENTIFIER  \\\n",
       "0              0                      OBJECT_DEVICE_509   \n",
       "1              1            OBJECT_ANALOG_INPUT_3000054   \n",
       "2              2            OBJECT_ANALOG_INPUT_3000056   \n",
       "3              3            OBJECT_ANALOG_INPUT_3000071   \n",
       "4              4            OBJECT_ANALOG_INPUT_3000073   \n",
       "...          ...                                    ...   \n",
       "2368        2368                OBJECT_TRENDLOG_3012960   \n",
       "2369        2369                OBJECT_TRENDLOG_3013010   \n",
       "2370        2370                OBJECT_TRENDLOG_3013011   \n",
       "2371        2371  OBJECT_POSITIVE_INTEGER_VALUE_3012518   \n",
       "2372        2372  OBJECT_POSITIVE_INTEGER_VALUE_3012526   \n",
       "\n",
       "                                       PROP_OBJECT_NAME  \\\n",
       "0                  MeSH_Boiler'NAE08\\MeSH_Notification'   \n",
       "1     MeSH_Boiler'NAE08/MeSH_Flow Rate, Voumetric, C...   \n",
       "2     MeSH_Boiler'NAE08/MeSH_Flow Rate, Voumetric, C...   \n",
       "3     MeSH_Boiler'NAE08/MeSH_Flow Rate, Voumetric, C...   \n",
       "4     MeSH_Boiler'NAE08/MeSH_Flow Rate, Voumetric, C...   \n",
       "...                                                 ...   \n",
       "2368  MeSH_Boiler'NAE02/MeSH_Flow Rate, Voumetric, C...   \n",
       "2369  MeSH_Boiler'NAE02/MeSH_Flow Rate, Voumetric, C...   \n",
       "2370  MeSH_Boiler'NAE02/MeSH_Flow Rate, Voumetric, C...   \n",
       "2371  MeSH_Boiler'NAE02/MeSH_Flow Rate, Voumetric, C...   \n",
       "2372  MeSH_Boiler'NAE02/MeSH_Flow Rate, Voumetric, C...   \n",
       "\n",
       "               PROP_DESCRIPTION                            label  Unnamed: 0.1  \n",
       "0     8th floor mechanical room  ahus zone air temp effective sp           NaN  \n",
       "1             Zone2 Temperature        ahus zone air temp sensor           NaN  \n",
       "2            Zone 1 Temperature        ahus zone air temp sensor           NaN  \n",
       "3             Zone2 Temperature        ahus zone air temp sensor           NaN  \n",
       "4            Zone 1 Temperature        ahus zone air temp sensor           NaN  \n",
       "...                         ...                              ...           ...  \n",
       "2368                        NaN                              NaN        2368.0  \n",
       "2369                        NaN                              NaN        2369.0  \n",
       "2370                        NaN                              NaN        2370.0  \n",
       "2371           Hour counter [h]              ahus cool stage cmd        2371.0  \n",
       "2372     Serial Number [number]              ahus humidifier cmd        2372.0  \n",
       "\n",
       "[7964 rows x 6 columns]"
      ]
     },
     "execution_count": 6,
     "metadata": {},
     "output_type": "execute_result"
    }
   ],
   "source": [
    "data"
   ]
  },
  {
   "cell_type": "code",
   "execution_count": 7,
   "metadata": {},
   "outputs": [],
   "source": [
    "os.chdir('/data01/CSB/CSB_Jupyter/ATVT/BERT/CSB_Modelling/data')\n",
    "data = data[~pd.isnull(data.label)]\n",
    "data = data.drop(['Unnamed: 0', 'Unnamed: 0.1'], axis=1)\n",
    "data = data.fillna('0')\n",
    "data['data'] = data['PROP_OBJECT_IDENTIFIER']+'_'+data['PROP_OBJECT_NAME']+'_'+data['PROP_DESCRIPTION']\n",
    "data = data[['data', 'label']]\n",
    "\n",
    "for i in range(len(data.label.unique())):\n",
    "    np.savetxt(data.label.unique()[i]+'.txt', data[data.label == data.label.unique()[i]].data.values, delimiter=\"      \", fmt=\"%s\")"
   ]
  },
  {
   "cell_type": "markdown",
   "metadata": {},
   "source": [
    "---\n",
    "## 각각의 텍스트 데이터를 한줄한줄 분리하여, 파일명 지정후 각각의 train/test label 폴더에 넣기\n",
    "---"
   ]
  },
  {
   "cell_type": "code",
   "execution_count": 8,
   "metadata": {},
   "outputs": [],
   "source": [
    "txt = []\n",
    "for i in range(len(os.listdir())):\n",
    "    if '.txt' in os.listdir()[i]:\n",
    "        txt.append(os.listdir()[i])"
   ]
  },
  {
   "cell_type": "code",
   "execution_count": 10,
   "metadata": {},
   "outputs": [],
   "source": [
    "for i in range(len(txt)):\n",
    "    a = []\n",
    "    f = open(txt[i], 'r')\n",
    "    while True:\n",
    "        line = f.readline()\n",
    "        a.append(line)\n",
    "        if not line: break\n",
    "    f.close()"
   ]
  },
  {
   "cell_type": "code",
   "execution_count": 11,
   "metadata": {},
   "outputs": [],
   "source": [
    "os.chdir('/data01/CSB/CSB_Jupyter/ATVT/BERT/CSB_Modelling/data')"
   ]
  },
  {
   "cell_type": "code",
   "execution_count": 12,
   "metadata": {},
   "outputs": [],
   "source": [
    "for i in range(len(txt)):\n",
    "    a = []\n",
    "    f = open(txt[i], 'r')\n",
    "    while True:\n",
    "        line = f.readline()\n",
    "        a.append(line)\n",
    "        if not line: break\n",
    "    f.close()\n",
    "    \n",
    "    \n",
    "    for j in range(len(a)):\n",
    "        with open('/data01/CSB/CSB_Jupyter/ATVT/BERT/CSB_Modelling/label/train/'+txt[i][:-4]+'/'+txt[i][:-4]+str(j+1)+'.'+'txt', 'w') as file:\n",
    "            file.write(a[j])\n",
    "       "
   ]
  },
  {
   "cell_type": "code",
   "execution_count": 13,
   "metadata": {},
   "outputs": [],
   "source": [
    "for i in range(len(txt)):\n",
    "    a = []\n",
    "    f = open(txt[i], 'r')\n",
    "    while True:\n",
    "        line = f.readline()\n",
    "        a.append(line)\n",
    "        if not line: break\n",
    "    f.close()\n",
    "    \n",
    "    \n",
    "    for j in range(len(a)):\n",
    "        with open('/data01/CSB/CSB_Jupyter/ATVT/BERT/CSB_Modelling/label/test/'+txt[i][:-4]+'/'+txt[i][:-4]+str(j+1)+'.'+'txt', 'w') as file:\n",
    "            file.write(a[j])\n",
    "       "
   ]
  }
 ],
 "metadata": {
  "kernelspec": {
   "display_name": "csb2",
   "language": "python",
   "name": "csb2"
  },
  "language_info": {
   "codemirror_mode": {
    "name": "ipython",
    "version": 3
   },
   "file_extension": ".py",
   "mimetype": "text/x-python",
   "name": "python",
   "nbconvert_exporter": "python",
   "pygments_lexer": "ipython3",
   "version": "3.6.7"
  }
 },
 "nbformat": 4,
 "nbformat_minor": 2
}
