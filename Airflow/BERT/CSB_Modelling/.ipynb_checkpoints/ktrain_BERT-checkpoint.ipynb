{
 "cells": [
  {
   "cell_type": "code",
   "execution_count": 22,
   "metadata": {},
   "outputs": [],
   "source": [
    "import pandas as pd\n",
    "pd.set_option('display.max_columns', None)\n",
    "pd.set_option('display.max_rows', None)"
   ]
  },
  {
   "cell_type": "markdown",
   "metadata": {},
   "source": [
    "## BERT 모델 태우기"
   ]
  },
  {
   "cell_type": "code",
   "execution_count": 4,
   "metadata": {},
   "outputs": [],
   "source": [
    "from ktrain import text\n",
    "import ktrain"
   ]
  },
  {
   "cell_type": "code",
   "execution_count": 2,
   "metadata": {},
   "outputs": [
    {
     "name": "stdout",
     "output_type": "stream",
     "text": [
      "detected encoding: utf-8\n",
      "preprocessing train...\n",
      "language: en\n"
     ]
    },
    {
     "data": {
      "text/html": [
       "done."
      ],
      "text/plain": [
       "<IPython.core.display.HTML object>"
      ]
     },
     "metadata": {},
     "output_type": "display_data"
    },
    {
     "name": "stdout",
     "output_type": "stream",
     "text": [
      "preprocessing test...\n",
      "language: en\n"
     ]
    },
    {
     "data": {
      "text/html": [
       "done."
      ],
      "text/plain": [
       "<IPython.core.display.HTML object>"
      ]
     },
     "metadata": {},
     "output_type": "display_data"
    }
   ],
   "source": [
    "(x_train, y_train), (x_test, y_test), preproc = text.texts_from_folder('label', maxlen=500, \n",
    "                                                                     preprocess_mode='bert',\n",
    "                                                                     train_test_names=['train', 'test'],\n",
    "                                                                     )"
   ]
  },
  {
   "cell_type": "code",
   "execution_count": 5,
   "metadata": {},
   "outputs": [
    {
     "name": "stdout",
     "output_type": "stream",
     "text": [
      "Is Multi-Label? False\n",
      "maxlen is 500\n",
      "done.\n"
     ]
    }
   ],
   "source": [
    "model = text.text_classifier('bert', train_data=(x_train, y_train), preproc=preproc)\n",
    "learner = ktrain.get_learner(model, train_data=(x_train, y_train),val_data=(x_test, y_test), batch_size= 5)"
   ]
  },
  {
   "cell_type": "code",
   "execution_count": null,
   "metadata": {},
   "outputs": [
    {
     "name": "stdout",
     "output_type": "stream",
     "text": [
      "\n",
      "\n",
      "begin training using onecycle policy with max lr of 2e-05...\n",
      "Train on 1121 samples, validate on 1121 samples\n",
      "Epoch 1/8\n",
      "1121/1121 [==============================] - 4046s 4s/sample - loss: 2.8571 - accuracy: 0.3140 - val_loss: 1.8151 - val_accuracy: 0.6557\n",
      "Epoch 2/8\n",
      "1121/1121 [==============================] - 3949s 4s/sample - loss: 1.3151 - accuracy: 0.7386 - val_loss: 0.7645 - val_accuracy: 0.8252\n",
      "Epoch 3/8\n",
      "1121/1121 [==============================] - 3586s 3s/sample - loss: 0.6965 - accuracy: 0.8510 - val_loss: 0.4482 - val_accuracy: 0.9028\n",
      "Epoch 4/8\n",
      "1121/1121 [==============================] - 3456s 3s/sample - loss: 0.4617 - accuracy: 0.9010 - val_loss: 0.3033 - val_accuracy: 0.9376\n",
      "Epoch 5/8\n",
      "1121/1121 [==============================] - 3372s 3s/sample - loss: 0.3116 - accuracy: 0.9331 - val_loss: 0.2084 - val_accuracy: 0.9572\n",
      "Epoch 6/8\n",
      "1121/1121 [==============================] - 3173s 3s/sample - loss: 0.2252 - accuracy: 0.9545 - val_loss: 0.1664 - val_accuracy: 0.9652\n",
      "Epoch 7/8\n",
      "1121/1121 [==============================] - 3904s 3s/sample - loss: 0.1859 - accuracy: 0.9625 - val_loss: 0.1495 - val_accuracy: 0.9679\n",
      "Epoch 8/8\n",
      "1120/1121 [============================>.] - ETA: 2s - loss: 0.1691 - accuracy: 0.9670 "
     ]
    }
   ],
   "source": [
    "learner.fit_onecycle(2e-5, 8)"
   ]
  },
  {
   "cell_type": "code",
   "execution_count": 7,
   "metadata": {},
   "outputs": [],
   "source": [
    "predictor = ktrain.get_predictor(learner.model, preproc)"
   ]
  },
  {
   "cell_type": "code",
   "execution_count": 8,
   "metadata": {},
   "outputs": [
    {
     "data": {
      "text/plain": [
       "['ahus bypass damper cmd',\n",
       " 'ahus cool stage cmd',\n",
       " 'ahus discharge air fan cmd',\n",
       " 'ahus discharge air fan sensor',\n",
       " 'ahus discharge air flow sensor',\n",
       " 'ahus discharge air humidity sensor',\n",
       " 'ahus discharge air pressure sensor',\n",
       " 'ahus discharge air temp sensor',\n",
       " 'ahus exhaust air damper cmd',\n",
       " 'ahus exhaust air fan cmd',\n",
       " 'ahus facdBypass cmd',\n",
       " 'ahus freezStat sensor',\n",
       " 'ahus heat stage cmd',\n",
       " 'ahus heatWheel cmd',\n",
       " 'ahus humidifier cmd',\n",
       " 'ahus mixed air temp sensor',\n",
       " 'ahus outside air damper cmd',\n",
       " 'ahus outside air flow sensor',\n",
       " 'ahus outside air flow sp',\n",
       " 'ahus outside air humidity sensor',\n",
       " 'ahus outside air pressure sensor',\n",
       " 'ahus outside air temp sensor',\n",
       " 'ahus return air co2 sensor',\n",
       " 'ahus return air damper cmd',\n",
       " 'ahus return air fan cmd',\n",
       " 'ahus return air flow sensor',\n",
       " 'ahus return air humidity sensor',\n",
       " 'ahus return air pressure sensor',\n",
       " 'ahus return air temp sensor',\n",
       " 'ahus zone air co2 sensor',\n",
       " 'ahus zone air co2 sp',\n",
       " 'ahus zone air humidity sensor',\n",
       " 'ahus zone air temp effective sp',\n",
       " 'ahus zone air temp occ cooling sp',\n",
       " 'ahus zone air temp sensor',\n",
       " 'ahus zone air temp standby cooling sp',\n",
       " 'ahus zone air temp standby heating sp',\n",
       " 'ahus zone air temp unocc cooling sp',\n",
       " 'ahus zone air temp unocc heating sp',\n",
       " 'boilers circ pump cmd',\n",
       " 'boilers condensate pump cmd',\n",
       " 'boilers condensate pump sensor',\n",
       " 'boilers enable cmd',\n",
       " 'boilers run cmd',\n",
       " 'boilers run sensor',\n",
       " 'chillers chilled water delta flow sensor',\n",
       " 'chillers chilled water delta pressure sensor',\n",
       " 'chillers chilled water delta temp sensor',\n",
       " 'chillers chilled water entering flow sensor',\n",
       " 'chillers chilled water entering pressure sensor',\n",
       " 'chillers chilled water entering temp sensor',\n",
       " 'chillers chilled water leaving flow sensor',\n",
       " 'chillers chilled water leaving pressure sensor',\n",
       " 'chillers chilled water leaving temp sensor',\n",
       " 'chillers chilled water leaving temp sp',\n",
       " 'chillers chilled water valve isolation cmd',\n",
       " 'chillers condenser cmd',\n",
       " 'chillers condenser refrig pressure sensor',\n",
       " 'chillers condenser refrig temp sensor',\n",
       " 'chillers condenser water entering flow sensor',\n",
       " 'chillers condenser water entering pressure sensor',\n",
       " 'chillers condenser water entering temp sensor',\n",
       " 'chillers condenser water leaving flow sensor',\n",
       " 'chillers condenser water leaving pressure sensor',\n",
       " 'chillers condenser water leaving temp sensor',\n",
       " 'chillers condenser water valve isolation cmd',\n",
       " 'chillers efficiency sensor',\n",
       " 'chillers enable cmd',\n",
       " 'chillers energy sensor',\n",
       " 'chillers evaporator refrig pressure sensor',\n",
       " 'chillers evaporator refrig temp sensor',\n",
       " 'chillers load cmd',\n",
       " 'chillers load sensor',\n",
       " 'chillers power sensor',\n",
       " 'chillers run cmd',\n",
       " 'chillers run sensor',\n",
       " 'elec meter  volt thd phase sensor',\n",
       " 'elec meter active power phase sensor',\n",
       " 'elec meter active power total sensor',\n",
       " 'elec meter apparent power phase sensor',\n",
       " 'elec meter apparent power total sensor',\n",
       " 'elec meter current angle avg sensor',\n",
       " 'elec meter current angle phase sensor',\n",
       " 'elec meter current imbalance sensor',\n",
       " 'elec meter current mag avg sensor',\n",
       " 'elec meter current mag phase sensor',\n",
       " 'elec meter current thd avg sensor',\n",
       " 'elec meter current thd phase sensor',\n",
       " 'elec meter energy export sensor',\n",
       " 'elec meter energy import sensor',\n",
       " 'elec meter energy net sensor',\n",
       " 'elec meter energy phase sensor',\n",
       " 'elec meter energy total sensor',\n",
       " 'elec meter pf avg sensor',\n",
       " 'elec meter pf phase sensor',\n",
       " 'elec meter power export sensor',\n",
       " 'elec meter power import sensor',\n",
       " 'elec meter power net sensor',\n",
       " 'elec meter reactive power phase sensor',\n",
       " 'elec meter reactive power total sensor',\n",
       " 'elec meter volt angle avg sensor',\n",
       " 'elec meter volt angle phase sensor',\n",
       " 'elec meter volt imbalance sensor',\n",
       " 'elec meter volt mag avg sensor',\n",
       " 'elec meter volt mag phase sensor',\n",
       " 'elec meter volt thd avg sensor',\n",
       " 'tanks level sensor',\n",
       " 'tanks pressure sensor',\n",
       " 'tanks temp sensor',\n",
       " 'vavs air damper cmd',\n",
       " 'vavs air fan cmd',\n",
       " 'vavs air fan sensor',\n",
       " 'vavs air flow effective sp',\n",
       " 'vavs air flow max sp',\n",
       " 'vavs air flow min sp',\n",
       " 'vavs air flow reheating max sp',\n",
       " 'vavs air flow sensor',\n",
       " 'vavs air flow standby sp',\n",
       " 'vavs air pressure sensor',\n",
       " 'vavs discharge air temp sensor',\n",
       " 'vavs ductArea sp',\n",
       " 'vavs entering air temp sensor',\n",
       " 'vavs perimeterHeat cmd',\n",
       " 'vavs reheat cmd',\n",
       " 'vavs vavMode sp',\n",
       " 'vavs zone air co2 sensor',\n",
       " 'vavs zone air co2 sp',\n",
       " 'vavs zone air humidity sensor',\n",
       " 'vavs zone air temp effective sp',\n",
       " 'vavs zone air temp occ cooling sp',\n",
       " 'vavs zone air temp sensor',\n",
       " 'vavs zone air temp standby cooling sp',\n",
       " 'vavs zone air temp standby heating sp',\n",
       " 'vavs zone air temp unocc cooling sp',\n",
       " 'vavs zone air temp unocc heating sp',\n",
       " 'vfds enable cmd',\n",
       " 'vfds freq cmd',\n",
       " 'vfds run cmd\\t\\t',\n",
       " 'vfds run sensor',\n",
       " 'vfds speed cmd',\n",
       " 'zones zone air co2 sensor',\n",
       " 'zones zone air co2 sp',\n",
       " 'zones zone air humidity sensor',\n",
       " 'zones zone air temp occ cooling sp',\n",
       " 'zones zone air temp occ heating sp',\n",
       " 'zones zone air temp sensor',\n",
       " 'zones zone air temp standby cooling sp',\n",
       " 'zones zone air temp standby heating sp',\n",
       " 'zones zone air temp unocc cooling sp',\n",
       " 'zones zone air temp unocc heating sp',\n",
       " 'zones zone air tmep effective sp']"
      ]
     },
     "execution_count": 8,
     "metadata": {},
     "output_type": "execute_result"
    }
   ],
   "source": [
    "predictor.get_classes()"
   ]
  },
  {
   "cell_type": "code",
   "execution_count": 24,
   "metadata": {},
   "outputs": [
    {
     "data": {
      "text/html": [],
      "text/plain": [
       "<IPython.core.display.HTML object>"
      ]
     },
     "metadata": {},
     "output_type": "display_data"
    },
    {
     "data": {
      "text/plain": [
       "'ahus zone air temp sensor'"
      ]
     },
     "execution_count": 24,
     "metadata": {},
     "output_type": "execute_result"
    }
   ],
   "source": [
    "predictor.predict('MeSH_BoilerNAE08/MeSH_Flow Rate, Voumetric, Cumulative-1.NAE8-T1-FEC76.ZN1-MeSH_Temperature\\MeSH_Notification')"
   ]
  },
  {
   "cell_type": "code",
   "execution_count": 11,
   "metadata": {},
   "outputs": [],
   "source": [
    "predictor.save('csbpredictor')"
   ]
  },
  {
   "cell_type": "code",
   "execution_count": 13,
   "metadata": {},
   "outputs": [
    {
     "data": {
      "text/plain": [
       "<ktrain.text.learner.BERTTextClassLearner at 0x7f7bb04b5ac8>"
      ]
     },
     "execution_count": 13,
     "metadata": {},
     "output_type": "execute_result"
    }
   ],
   "source": [
    "learner"
   ]
  }
 ],
 "metadata": {
  "kernelspec": {
   "display_name": "csb2",
   "language": "python",
   "name": "csb2"
  },
  "language_info": {
   "codemirror_mode": {
    "name": "ipython",
    "version": 3
   },
   "file_extension": ".py",
   "mimetype": "text/x-python",
   "name": "python",
   "nbconvert_exporter": "python",
   "pygments_lexer": "ipython3",
   "version": "3.6.7"
  }
 },
 "nbformat": 4,
 "nbformat_minor": 2
}
