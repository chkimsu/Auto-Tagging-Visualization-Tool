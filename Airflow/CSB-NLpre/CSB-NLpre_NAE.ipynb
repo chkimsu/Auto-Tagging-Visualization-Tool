{
 "cells": [
  {
   "cell_type": "code",
   "execution_count": 2,
   "metadata": {},
   "outputs": [
    {
     "ename": "FileNotFoundError",
     "evalue": "[Errno 2] No such file or directory: '/data01/CSB/CSB_Jupyter/ATVT/auto-tagging-master/Preprocessing/Text_Normalize/NLPre-master/CSB-NLpre/'",
     "output_type": "error",
     "traceback": [
      "\u001b[0;31m---------------------------------------------------------------------------\u001b[0m",
      "\u001b[0;31mFileNotFoundError\u001b[0m                         Traceback (most recent call last)",
      "\u001b[0;32m<ipython-input-2-d2d1b00213b7>\u001b[0m in \u001b[0;36m<module>\u001b[0;34m\u001b[0m\n\u001b[1;32m      3\u001b[0m \u001b[0;32mimport\u001b[0m \u001b[0mpandas\u001b[0m \u001b[0;32mas\u001b[0m \u001b[0mpd\u001b[0m\u001b[0;34m\u001b[0m\u001b[0;34m\u001b[0m\u001b[0m\n\u001b[1;32m      4\u001b[0m \u001b[0;34m\u001b[0m\u001b[0m\n\u001b[0;32m----> 5\u001b[0;31m \u001b[0mos\u001b[0m\u001b[0;34m.\u001b[0m\u001b[0mchdir\u001b[0m\u001b[0;34m(\u001b[0m\u001b[0;34m'/data01/CSB/CSB_Jupyter/ATVT/auto-tagging-master/Preprocessing/Text_Normalize/NLPre-master/CSB-NLpre/'\u001b[0m\u001b[0;34m)\u001b[0m\u001b[0;34m\u001b[0m\u001b[0;34m\u001b[0m\u001b[0m\n\u001b[0m\u001b[1;32m      6\u001b[0m \u001b[0;34m\u001b[0m\u001b[0m\n\u001b[1;32m      7\u001b[0m \u001b[0mparsing\u001b[0m \u001b[0;34m=\u001b[0m \u001b[0mpd\u001b[0m\u001b[0;34m.\u001b[0m\u001b[0mread_csv\u001b[0m\u001b[0;34m(\u001b[0m\u001b[0;34m'NAE02_Parsing.csv'\u001b[0m\u001b[0;34m)\u001b[0m\u001b[0;34m\u001b[0m\u001b[0;34m\u001b[0m\u001b[0m\n",
      "\u001b[0;31mFileNotFoundError\u001b[0m: [Errno 2] No such file or directory: '/data01/CSB/CSB_Jupyter/ATVT/auto-tagging-master/Preprocessing/Text_Normalize/NLPre-master/CSB-NLpre/'"
     ]
    }
   ],
   "source": [
    "import os\n",
    "import csv\n",
    "import pandas as pd\n",
    "\n",
    "os.chdir('/data01/CSB/CSB_Jupyter/ATVT/auto-tagging-master/Preprocessing/Text_Normalize/NLPre-master/CSB-NLpre/')\n",
    "\n",
    "parsing = pd.read_csv('NAE02_Parsing.csv')"
   ]
  },
  {
   "cell_type": "code",
   "execution_count": 39,
   "metadata": {},
   "outputs": [],
   "source": [
    "import pandas as pd\n",
    "\n",
    "data = pd.read_csv('/data01/CSB/CSB_Jupyter/ATVT/auto-tagging-master/Dictionary/NLPre_dictionary/MeSH_two_word_lexicon3.csv')\n",
    "data = data.drop(['Unnamed: 0'], axis=1)\n",
    "data.columns = ['term', 'replacement']\n",
    "data.to_csv('/data01/CSB/CSB_Jupyter/ATVT/auto-tagging-master/Dictionary/NLPre_dictionary/MeSH_two_word_lexicon3.csv')"
   ]
  },
  {
   "cell_type": "code",
   "execution_count": 40,
   "metadata": {},
   "outputs": [],
   "source": [
    "\n",
    "from nlpre import titlecaps, dedash, identify_parenthetical_phrases\n",
    "from nlpre import replace_acronyms, replace_from_dictionary\n",
    "from shutil import copyfile\n",
    "\n",
    "with open('NAE02.txt','w') as file:\n",
    "    for line in parsing.PROP_OBJECT_NAME:\n",
    "        file.writelines(line+'\\n')\n",
    "file.close()"
   ]
  },
  {
   "cell_type": "code",
   "execution_count": 3,
   "metadata": {},
   "outputs": [
    {
     "ename": "NameError",
     "evalue": "name 'identify_parenthetical_phrases' is not defined",
     "output_type": "error",
     "traceback": [
      "\u001b[0;31m---------------------------------------------------------------------------\u001b[0m",
      "\u001b[0;31mNameError\u001b[0m                                 Traceback (most recent call last)",
      "\u001b[0;32m<ipython-input-3-c86a47e50597>\u001b[0m in \u001b[0;36m<module>\u001b[0;34m\u001b[0m\n\u001b[1;32m      7\u001b[0m \u001b[0;34m\u001b[0m\u001b[0m\n\u001b[1;32m      8\u001b[0m \u001b[0;34m\u001b[0m\u001b[0m\n\u001b[0;32m----> 9\u001b[0;31m     \u001b[0mABBR\u001b[0m \u001b[0;34m=\u001b[0m \u001b[0midentify_parenthetical_phrases\u001b[0m\u001b[0;34m(\u001b[0m\u001b[0;34m)\u001b[0m\u001b[0;34m(\u001b[0m\u001b[0mtext1\u001b[0m\u001b[0;34m)\u001b[0m\u001b[0;34m\u001b[0m\u001b[0;34m\u001b[0m\u001b[0m\n\u001b[0m\u001b[1;32m     10\u001b[0m     parsers = [dedash(), titlecaps(), replace_acronyms(ABBR),\n\u001b[1;32m     11\u001b[0m                replace_from_dictionary(f_dict = '/data01/JSH/ATVT/auto-tagging-master/Dictionary/NLPre_dictionary/MeSH_two_word_lexicon3.csv',prefix=\"MeSH_\")]\n",
      "\u001b[0;31mNameError\u001b[0m: name 'identify_parenthetical_phrases' is not defined"
     ]
    }
   ],
   "source": [
    "leng = pd.read_csv('NAE02.txt')\n",
    "f1 = open('NAE02.txt','rb')\n",
    "   \n",
    "    \n",
    "for i in range(len(leng)+1):\n",
    "    text1 = str(f1.readline())\n",
    "    \n",
    "    \n",
    "    ABBR = identify_parenthetical_phrases()(text1)\n",
    "    parsers = [dedash(), titlecaps(), replace_acronyms(ABBR),\n",
    "               replace_from_dictionary(f_dict = '/data01/CSB/CSB_Jupyter/ATVT/auto-tagging-master/Dictionary/NLPre_dictionary/MeSH_two_word_lexicon3.csv',prefix=\"MeSH_\")]\n",
    "\n",
    "    for f in parsers:\n",
    "        text = f(text1)\n",
    "\n",
    "    with open('NAE02_result.txt', 'a') as file:\n",
    "        file.writelines(text+'\\n')\n",
    "    file.close()"
   ]
  },
  {
   "cell_type": "code",
   "execution_count": 42,
   "metadata": {},
   "outputs": [
    {
     "name": "stderr",
     "output_type": "stream",
     "text": [
      "/home/chkimsu/anaconda3/envs/csb2/lib/python3.6/site-packages/ipykernel_launcher.py:1: ParserWarning: Falling back to the 'python' engine because the 'c' engine does not support regex separators (separators > 1 char and different from '\\s+' are interpreted as regex); you can avoid this warning by specifying engine='python'.\n",
      "  \"\"\"Entry point for launching an IPython kernel.\n"
     ]
    }
   ],
   "source": [
    "PROP_OBJECT_NAME = pd.read_csv('NAE02_result.txt', delimiter='             ', header = None)\n",
    "PROP_OBJECT_NAME.columns = ['PROP_OBJECT_NAME']\n",
    "parsing[['PROP_OBJECT_NAME']] = PROP_OBJECT_NAME\n",
    "parsing.to_csv('NAE02_result.csv')"
   ]
  },
  {
   "cell_type": "code",
   "execution_count": 47,
   "metadata": {},
   "outputs": [
    {
     "name": "stderr",
     "output_type": "stream",
     "text": [
      "/home/chkimsu/anaconda3/envs/csb2/lib/python3.6/site-packages/ipykernel_launcher.py:1: FutureWarning: Passing a negative integer is deprecated in version 1.0 and will not be supported in future version. Instead, use None to not limit the column width.\n",
      "  \"\"\"Entry point for launching an IPython kernel.\n"
     ]
    }
   ],
   "source": [
    "pd.set_option('display.max_colwidth', -1)"
   ]
  },
  {
   "cell_type": "code",
   "execution_count": 48,
   "metadata": {},
   "outputs": [
    {
     "data": {
      "text/html": [
       "<div>\n",
       "<style scoped>\n",
       "    .dataframe tbody tr th:only-of-type {\n",
       "        vertical-align: middle;\n",
       "    }\n",
       "\n",
       "    .dataframe tbody tr th {\n",
       "        vertical-align: top;\n",
       "    }\n",
       "\n",
       "    .dataframe thead th {\n",
       "        text-align: right;\n",
       "    }\n",
       "</style>\n",
       "<table border=\"1\" class=\"dataframe\">\n",
       "  <thead>\n",
       "    <tr style=\"text-align: right;\">\n",
       "      <th></th>\n",
       "      <th>Unnamed: 0</th>\n",
       "      <th>PROP_OBJECT_IDENTIFIER</th>\n",
       "      <th>PROP_OBJECT_NAME</th>\n",
       "      <th>PROP_DESCRIPTION</th>\n",
       "    </tr>\n",
       "  </thead>\n",
       "  <tbody>\n",
       "    <tr>\n",
       "      <th>0</th>\n",
       "      <td>0</td>\n",
       "      <td>OBJECT_DEVICE_502</td>\n",
       "      <td>MeSH_Boiler'NAE02\\MeSH_Notification'</td>\n",
       "      <td>15th floor mechanical room</td>\n",
       "    </tr>\n",
       "    <tr>\n",
       "      <th>1</th>\n",
       "      <td>1</td>\n",
       "      <td>OBJECT_ANALOG_INPUT_3000019</td>\n",
       "      <td>MeSH_Boiler'NAE02/MeSH_Flow Rate, Voumetric, Cumulative-2.NAE2-T2-FEC30.ZN2-MeSH_Temperature\\MeSH_Notification'</td>\n",
       "      <td>Zone2 Temperature</td>\n",
       "    </tr>\n",
       "    <tr>\n",
       "      <th>2</th>\n",
       "      <td>2</td>\n",
       "      <td>OBJECT_ANALOG_INPUT_3000021</td>\n",
       "      <td>MeSH_Boiler'NAE02/MeSH_Flow Rate, Voumetric, Cumulative-2.NAE2-T2-FEC30.ZN1-MeSH_Temperature\\MeSH_Notification'</td>\n",
       "      <td>Zone 1 Temperature</td>\n",
       "    </tr>\n",
       "    <tr>\n",
       "      <th>3</th>\n",
       "      <td>3</td>\n",
       "      <td>OBJECT_ANALOG_INPUT_3000037</td>\n",
       "      <td>MeSH_Boiler'NAE02/MeSH_Flow Rate, Voumetric, Cumulative-2.NAE2-T2-FEC31.ZN2-MeSH_Temperature\\MeSH_Notification'</td>\n",
       "      <td>Zone2 Temperature</td>\n",
       "    </tr>\n",
       "    <tr>\n",
       "      <th>4</th>\n",
       "      <td>4</td>\n",
       "      <td>OBJECT_ANALOG_INPUT_3000039</td>\n",
       "      <td>MeSH_Boiler'NAE02/MeSH_Flow Rate, Voumetric, Cumulative-2.NAE2-T2-FEC31.ZN1-MeSH_Temperature\\MeSH_Notification'</td>\n",
       "      <td>Zone 1 Temperature</td>\n",
       "    </tr>\n",
       "    <tr>\n",
       "      <th>...</th>\n",
       "      <td>...</td>\n",
       "      <td>...</td>\n",
       "      <td>...</td>\n",
       "      <td>...</td>\n",
       "    </tr>\n",
       "    <tr>\n",
       "      <th>2368</th>\n",
       "      <td>2368</td>\n",
       "      <td>OBJECT_TRENDLOG_3012960</td>\n",
       "      <td>MeSH_Boiler'NAE02/MeSH_Flow Rate, Voumetric, Cumulative-2.NAE2-T2-FEC41.SAT-SP.Trend1\\MeSH_Notification'</td>\n",
       "      <td>NaN</td>\n",
       "    </tr>\n",
       "    <tr>\n",
       "      <th>2369</th>\n",
       "      <td>2369</td>\n",
       "      <td>OBJECT_TRENDLOG_3013010</td>\n",
       "      <td>MeSH_Boiler'NAE02/MeSH_Flow Rate, Voumetric, Cumulative-1.CU-15.CU State.Trend1\\MeSH_Notification'</td>\n",
       "      <td>NaN</td>\n",
       "    </tr>\n",
       "    <tr>\n",
       "      <th>2370</th>\n",
       "      <td>2370</td>\n",
       "      <td>OBJECT_TRENDLOG_3013011</td>\n",
       "      <td>MeSH_Boiler'NAE02/MeSH_Flow Rate, Voumetric, Cumulative-1.CU-15.Eff MeSH_Outdoor Air Flow Setpoint.Trend1\\MeSH_Notification'</td>\n",
       "      <td>NaN</td>\n",
       "    </tr>\n",
       "    <tr>\n",
       "      <th>2371</th>\n",
       "      <td>2371</td>\n",
       "      <td>OBJECT_POSITIVE_INTEGER_VALUE_3012518</td>\n",
       "      <td>MeSH_Boiler'NAE02/MeSH_Flow Rate, Voumetric, Cumulative-2.CU-17-BTU.Positive Integer Value-1\\MeSH_Notification'</td>\n",
       "      <td>Hour counter [h]</td>\n",
       "    </tr>\n",
       "    <tr>\n",
       "      <th>2372</th>\n",
       "      <td>2372</td>\n",
       "      <td>OBJECT_POSITIVE_INTEGER_VALUE_3012526</td>\n",
       "      <td>MeSH_Boiler'NAE02/MeSH_Flow Rate, Voumetric, Cumulative-2.CU-17-BTU.Positive Integer Value-9\\MeSH_Notification'</td>\n",
       "      <td>Serial Number [number]</td>\n",
       "    </tr>\n",
       "  </tbody>\n",
       "</table>\n",
       "<p>2373 rows × 4 columns</p>\n",
       "</div>"
      ],
      "text/plain": [
       "      Unnamed: 0                 PROP_OBJECT_IDENTIFIER  \\\n",
       "0     0           OBJECT_DEVICE_502                       \n",
       "1     1           OBJECT_ANALOG_INPUT_3000019             \n",
       "2     2           OBJECT_ANALOG_INPUT_3000021             \n",
       "3     3           OBJECT_ANALOG_INPUT_3000037             \n",
       "4     4           OBJECT_ANALOG_INPUT_3000039             \n",
       "...  ..                                   ...             \n",
       "2368  2368        OBJECT_TRENDLOG_3012960                 \n",
       "2369  2369        OBJECT_TRENDLOG_3013010                 \n",
       "2370  2370        OBJECT_TRENDLOG_3013011                 \n",
       "2371  2371        OBJECT_POSITIVE_INTEGER_VALUE_3012518   \n",
       "2372  2372        OBJECT_POSITIVE_INTEGER_VALUE_3012526   \n",
       "\n",
       "                                                                                                                  PROP_OBJECT_NAME  \\\n",
       "0     MeSH_Boiler'NAE02\\MeSH_Notification'                                                                                           \n",
       "1     MeSH_Boiler'NAE02/MeSH_Flow Rate, Voumetric, Cumulative-2.NAE2-T2-FEC30.ZN2-MeSH_Temperature\\MeSH_Notification'                \n",
       "2     MeSH_Boiler'NAE02/MeSH_Flow Rate, Voumetric, Cumulative-2.NAE2-T2-FEC30.ZN1-MeSH_Temperature\\MeSH_Notification'                \n",
       "3     MeSH_Boiler'NAE02/MeSH_Flow Rate, Voumetric, Cumulative-2.NAE2-T2-FEC31.ZN2-MeSH_Temperature\\MeSH_Notification'                \n",
       "4     MeSH_Boiler'NAE02/MeSH_Flow Rate, Voumetric, Cumulative-2.NAE2-T2-FEC31.ZN1-MeSH_Temperature\\MeSH_Notification'                \n",
       "...                                                                                                               ...                \n",
       "2368  MeSH_Boiler'NAE02/MeSH_Flow Rate, Voumetric, Cumulative-2.NAE2-T2-FEC41.SAT-SP.Trend1\\MeSH_Notification'                       \n",
       "2369  MeSH_Boiler'NAE02/MeSH_Flow Rate, Voumetric, Cumulative-1.CU-15.CU State.Trend1\\MeSH_Notification'                             \n",
       "2370  MeSH_Boiler'NAE02/MeSH_Flow Rate, Voumetric, Cumulative-1.CU-15.Eff MeSH_Outdoor Air Flow Setpoint.Trend1\\MeSH_Notification'   \n",
       "2371  MeSH_Boiler'NAE02/MeSH_Flow Rate, Voumetric, Cumulative-2.CU-17-BTU.Positive Integer Value-1\\MeSH_Notification'                \n",
       "2372  MeSH_Boiler'NAE02/MeSH_Flow Rate, Voumetric, Cumulative-2.CU-17-BTU.Positive Integer Value-9\\MeSH_Notification'                \n",
       "\n",
       "                PROP_DESCRIPTION  \n",
       "0     15th floor mechanical room  \n",
       "1     Zone2 Temperature           \n",
       "2     Zone 1 Temperature          \n",
       "3     Zone2 Temperature           \n",
       "4     Zone 1 Temperature          \n",
       "...                  ...          \n",
       "2368  NaN                         \n",
       "2369  NaN                         \n",
       "2370  NaN                         \n",
       "2371  Hour counter [h]            \n",
       "2372  Serial Number [number]      \n",
       "\n",
       "[2373 rows x 4 columns]"
      ]
     },
     "execution_count": 48,
     "metadata": {},
     "output_type": "execute_result"
    }
   ],
   "source": [
    "parsing"
   ]
  }
 ],
 "metadata": {
  "kernelspec": {
   "display_name": "csb2",
   "language": "python",
   "name": "csb2"
  },
  "language_info": {
   "codemirror_mode": {
    "name": "ipython",
    "version": 3
   },
   "file_extension": ".py",
   "mimetype": "text/x-python",
   "name": "python",
   "nbconvert_exporter": "python",
   "pygments_lexer": "ipython3",
   "version": "3.6.7"
  }
 },
 "nbformat": 4,
 "nbformat_minor": 2
}
